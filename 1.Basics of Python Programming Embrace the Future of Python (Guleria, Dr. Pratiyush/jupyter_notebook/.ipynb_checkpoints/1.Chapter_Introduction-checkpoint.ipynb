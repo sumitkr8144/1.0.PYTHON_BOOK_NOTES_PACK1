{
 "cells": [
  {
   "cell_type": "code",
   "execution_count": null,
   "metadata": {},
   "outputs": [],
   "source": [
    "Basics of Python Programming\n",
    "------------------------------------\n",
    "Dr. Pratiyush Guleria"
   ]
  },
  {
   "cell_type": "code",
   "execution_count": null,
   "metadata": {},
   "outputs": [],
   "source": []
  },
  {
   "cell_type": "code",
   "execution_count": null,
   "metadata": {},
   "outputs": [],
   "source": [
    "CHAPTER 1\n",
    "Introduction"
   ]
  },
  {
   "cell_type": "code",
   "execution_count": null,
   "metadata": {},
   "outputs": [],
   "source": [
    "Introduction\n",
    "Python is an interpreted and object-oriented high-level programming\n",
    "language. It is designed by Guido Van Rossum and released in 1991. The\n",
    "latest version of Python is Python 3.7.3.\n",
    "It is a scripting language like PHP, Perl, and Ruby. Python can also be\n",
    "translated into binary code like Java and is used in Math’s and Machine\n",
    "Learning."
   ]
  },
  {
   "cell_type": "code",
   "execution_count": null,
   "metadata": {},
   "outputs": [],
   "source": [
    "Python Installation\n",
    "Python can be installed in two ways:\n",
    "1. Download Python from its official website and manually install it. The\n",
    "programs can be compiled on the command prompt.\n",
    "2. Install Python by using Anaconda software, for this:\n",
    "a. First download the Anaconda Software (comes with Python\n",
    "Software along with built in libraries of Python).\n",
    "b. This software consists of two popular Integrated Development\n",
    "Environments (IDE) which are Jupyter notebook and Spyder\n",
    "shown in figure 1.1 and figure 1.2."
   ]
  },
  {
   "cell_type": "code",
   "execution_count": null,
   "metadata": {},
   "outputs": [],
   "source": [
    "Where Python can be explored?\n",
    "Python can be explored to:\n",
    "create web applications\n",
    "connect to database systems\n",
    "handle big data\n",
    "machine learning algorithmsdevelop predictive trends\n",
    "develop web applications with the help of Flask and Django modules\n",
    "Python has a preinstalled library for machine learning, bigdata, artificial\n",
    "intelligence, natural language processing, and so on."
   ]
  },
  {
   "cell_type": "code",
   "execution_count": null,
   "metadata": {},
   "outputs": [],
   "source": [
    "Note: Extension of Python is “.py”. Python uses indentation as its method\n",
    "of grouping statements. Therefore, in Python while writing programs,\n",
    "always take care of Indentation. If indentation error is there in conditions\n",
    "or loops, the error will prompt “unexpected indent”."
   ]
  },
  {
   "cell_type": "code",
   "execution_count": null,
   "metadata": {},
   "outputs": [],
   "source": [
    "Steps to run the python programs on command\n",
    "line\n",
    "Python program can be executed on the command line or through Python\n",
    "Shell as shown in figure 1.3(a) and figure 1.3(b). Python uses indentation to\n",
    "indicate a block of code.\n",
    "Create a simple program in a notepad as given below and save it in C:\\\n",
    "drive in the directory named “python” and file name is “begin.py”.\n",
    "print (“Hello World”)\n",
    "The python print statement is often used to output variables.\n",
    "Now, open the command terminal and change the current working\n",
    "directory to your directory where the above program is saved as shown\n",
    "in figure 1.3(a)."
   ]
  },
  {
   "cell_type": "code",
   "execution_count": null,
   "metadata": {},
   "outputs": [],
   "source": [
    "Example 1.1: Write a Program to print Hello World\n",
    "print(“Hello World”)\n",
    "print(“Python is opensource”)\n",
    "The output of the Example 1.1 is shown in figure 1.3(a)."
   ]
  },
  {
   "cell_type": "code",
   "execution_count": null,
   "metadata": {},
   "outputs": [],
   "source": [
    "Variable Declaration\n",
    "Python has no command for declaring a variable. In Python, variables need\n",
    "not to be declared with any type and one can even change the type of\n",
    "variable after they have been set.\n",
    "Note: The variable names are case-sensitive."
   ]
  },
  {
   "cell_type": "code",
   "execution_count": null,
   "metadata": {},
   "outputs": [],
   "source": [
    "Get User Input in Python from Command Line\n",
    "Example 1.2: To get the user input from the command line\n",
    "name= input(“Enter yourname”)\n",
    "print(“Hello” + format(name))\n",
    "time=input(“Enterthe appointment time”)\n",
    "print(time)\n",
    "Note: Here input is used as a keyword. The format () function used in the\n",
    "program is a built-in function which returns the formatted representation of\n",
    "the given value i.e. it returns a formatted string.\n",
    "The output of the Example 1.2 is shown in figure 1.4."
   ]
  },
  {
   "cell_type": "code",
   "execution_count": null,
   "metadata": {},
   "outputs": [],
   "source": [
    "Example 1.3: To add two numbers\n",
    "a = input(“Enterthe first number”)\n",
    "print (“The value of a is” +format(a))\n",
    "b = input(“Enter the second number”)\n",
    "print(“The value of b is” + format(b))\n",
    "c = a + b\n",
    "print (“The sum is:”+format(c))\n",
    "The output of the Example 1.3 is shown in figure 1.5."
   ]
  },
  {
   "cell_type": "code",
   "execution_count": null,
   "metadata": {},
   "outputs": [],
   "source": [
    "Program 1.1: Write a program to swap two values\n",
    "x=5\n",
    "y=10\n",
    "temp=x\n",
    "x=y\n",
    "y=temp\n",
    "print (‘The value of x after swapping:{}’.format(x))\n",
    "print(‘The value of y after swapping:{}’.format(y))\n",
    "The output of the above Program 1.1 is shown in figure 1.6."
   ]
  },
  {
   "cell_type": "code",
   "execution_count": null,
   "metadata": {},
   "outputs": [],
   "source": [
    "Operators in Python\n",
    "Example 1.4: To perform arithmetic operations in Python\n",
    "Save the file as: o1.py\n",
    "In this example, a and b variables store the integer values. The addition,\n",
    "subtraction, multiplication, division and remainder are the variables used in\n",
    "Example.\n",
    "# Basic operators in Python\n",
    "a = int(input(“Enter the first number”))\n",
    "b = int(input(“Enter the second number”))\n",
    "addition = a+b // addition\n",
    "subtraction = a–b // subtraction\n",
    "multiplication = a*b // multiplication\n",
    "division = a/b // division\n",
    "remainder = a%b // modulus\n",
    "print(“Addition”, addition)\n",
    "print(“Subtraction”, subtraction)\n",
    "print(“Multiplication is”, multiplication)\n",
    "print(“Division”, division)\n",
    "print(“Remainder”, remainder)\n",
    "The output of the Example 1.4 is shown in figure 1.7."
   ]
  },
  {
   "cell_type": "code",
   "execution_count": null,
   "metadata": {},
   "outputs": [],
   "source": [
    "Note: # is used to comment the statement.\n",
    "The relational operators are used to compare the values of two operands. The\n",
    "relational operators are:\n",
    "Greater than\n",
    "== equal to\n",
    "!= not equal to\n",
    ">= Greater than or equal to\n",
    "<= less than or equal to"
   ]
  },
  {
   "cell_type": "code",
   "execution_count": null,
   "metadata": {},
   "outputs": [],
   "source": [
    "Example 1.5: To perform relational operations in Python\n",
    "Save the file as: operator2.py\n",
    "# Relational operators in Python\n",
    "a = input(“Enter the first number”)\n",
    "print (“The value of a is” +format(a))\n",
    "b = input(“Enter the second number”)\n",
    "print(“The value of b is” + format(b))\n",
    "if a > b:\n",
    "print (‘a is greater than b’,a>b)\n",
    "else:\n",
    "print (‘a is not greater than b’,a>b)\n",
    "if a==b:\n",
    "print(‘a is equal to b’,a==b)\n",
    "else:\n",
    "print(‘a is not equal to b’,a==b)\n",
    "if a!=b:\n",
    "print(‘a is not equal to b’,a!=b)\n",
    "if a>=b:\n",
    "print(‘a is greater than equal to b’,a>=b)\n",
    "else:\n",
    "print(‘a is not greater than equal to b’,a>=b)\n",
    "if a<=b:print(‘a is less than equal to b’,a<=b)\n",
    "else:\n",
    "print(‘a is not less than equal to b’,a<=b)\n",
    "The output of Example 1.5 is shown in figure 1.8."
   ]
  },
  {
   "cell_type": "code",
   "execution_count": null,
   "metadata": {},
   "outputs": [],
   "source": [
    "Logical, Bitwise, and Assignment Operators\n",
    "Example 1.6: To perform Logical and Bitwise operations in Python\n",
    "# Logical and Bitwise operators in Python\n",
    "a = 1\n",
    "b = 0\n",
    "print (a and b) # output will be printed 0 i.e. False\n",
    "print (a or b) # output will be printed 1 i.e. True\n",
    "print (not a) # output will be “False”\n",
    "c = input (“Enter the value”)\n",
    "print (“The value of c is” +format(c))\n",
    "d = input (“Enter the value”)\n",
    "print (“The value of d is” + format(d))\n",
    "# Bitwise And (&) operator\n",
    "print(‘Result after Bitwise AND operation is’,c&d)\n",
    "# Bitwise or(|) operator\n",
    "print(‘Result after Bitwise OR operation is’,c|d)\n",
    "#Bitwise XOR operator\n",
    "print(‘Result after Bitwise XOR operation is’,c^d)# Bitwise Right Shift operator\n",
    "print(‘Result after Right Shift operation is’,c>>1)\n",
    "# Bitwise Left Shift Operator\n",
    "print(‘Result after Left Shift operation is’,c<<1)\n",
    "# Assignment operator\n",
    "c+=10 # c = c + 10\n",
    "print(‘c value after adding 10 using Assignment operator is’,c)\n",
    "c-=3 # c = c - 3\n",
    "print(‘c value after subtracting 3 using Assignment operator\n",
    "is’,c)\n"
   ]
  },
  {
   "cell_type": "code",
   "execution_count": null,
   "metadata": {},
   "outputs": [],
   "source": [
    "The explanation of the Example 1.6 is shown in box shown below:\n",
    "In “and” operator will check both the conditions i.e. If one condition is\n",
    "true and another is false, then the output will be false.\n",
    "In “or” operator, one condition is true, and another is false, then the output\n",
    "will be true.\n",
    "In Bitwise And (&) operator (E.g. assume the value of c in binary form is\n",
    "101(5) and d is 011(3). Now c&d = 101&011(if one value is 1 and other is\n",
    "0, the output is 0 and if both values are 1, then output is 1.\n",
    "Therefore, the final output is = 001(it is equivalent to decimal value 1)\n",
    "In Bitwise or(|) operator (E.g. assume the value of c in binary form is\n",
    "101(5) and d is 011(3). Now c|d = 101 | 011(if one value is 1 and other is 0,\n",
    "the output is 1 and if both values are 1, then output is 1.\n",
    "Therefore, final output is = 111(it is equivalent to decimal value 7)\n",
    "In Bitwise XOR operator (E.g. assume the value of c in binary form is\n",
    "101(5) and d is 011(3). Now c^d = 101 | 011(if one value is 1 and other is\n",
    "0, the output is 1 and if both values are 1, then output is 0.\n",
    "Therefore, final output is = 110(it is equivalent to decimal value 6)\n",
    "In Bitwise Right Shift operator (The value is shifted by 1 i.e. c value is\n",
    "5(101). On shifting towards right, the c value changes to 10(It is equivalent\n",
    "to decimal value 2).\n",
    "In Bitwise Left Shift Operator (The value is shifted by 1 i.e. c value is\n",
    "5(101). On shifting towards left, the c value changes to 1010(It isequivalent to decimal value 10)."
   ]
  },
  {
   "cell_type": "code",
   "execution_count": null,
   "metadata": {},
   "outputs": [],
   "source": [
    "Identity operators\n",
    "In python, the identity operators are:\n",
    "a. is: returns boolean value true if the values in variable are same else\n",
    "return false.\n",
    "b. isnot: returns boolean value true if the values in the variables are not\n",
    "same.\n",
    "Example 1.7: To perform identity operation in Python\n",
    "c = input(“Enter the value”)\n",
    "print (“The value of c is” +format(c))\n",
    "d = input(“Enter the value”)\n",
    "print(“The value of d is” + format(d))\n",
    "print (‘Output is true because c and d values are identical’,c\n",
    "is d)\n",
    "a = ‘java’\n",
    "b = ‘php’print (‘Output is true because a and b values not matches’, a\n",
    "is not b)\n",
    "a1 = ‘java’\n",
    "b1 = ‘java’\n",
    "print (‘Output is false because a1 and b1 values matches’, a1\n",
    "is not b1)\n",
    "The output of Example 1.7 is shown in Figure 1.10."
   ]
  },
  {
   "cell_type": "code",
   "execution_count": null,
   "metadata": {},
   "outputs": [],
   "source": [
    "Membership operators\n",
    "In Python, membership operators are:\n",
    "a. in: Output will be true if the variable value is find in the specified\n",
    "sequence else output will be false.\n",
    "b. not in: Output will be true if the variable value is not in the specified\n",
    "sequence else output will be false.\n",
    "Note: Membership operators are used in strings, lists and tuples.\n",
    "Example 1.8: To perform operations by using membership operator\n",
    "c = input(“Enter the value”)\n",
    "print (“The value of c is” +format(c))\n",
    "d = input(“Enter the value”)\n",
    "print(“The value of d is” + format(d))\n",
    "lst1 = [12,3,5,6,9] # A list is created, and the elements are\n",
    "placed into it.if c in lst1:\n",
    "print(‘c value is available in the list’, c in lst1)\n",
    "else:\n",
    "print(‘c value is not available in the list’, c in lst1)\n",
    "if d not in lst1:\n",
    "print(‘d value is not available in the list’, d not in lst1)\n",
    "else:\n",
    "print(‘d value is available in the list’, d not in lst1)\n",
    "The output of Example 1.8 is shown in figure 1.11."
   ]
  }
 ],
 "metadata": {
  "kernelspec": {
   "display_name": "Python 3",
   "language": "python",
   "name": "python3"
  },
  "language_info": {
   "codemirror_mode": {
    "name": "ipython",
    "version": 3
   },
   "file_extension": ".py",
   "mimetype": "text/x-python",
   "name": "python",
   "nbconvert_exporter": "python",
   "pygments_lexer": "ipython3",
   "version": "3.7.6"
  }
 },
 "nbformat": 4,
 "nbformat_minor": 4
}
