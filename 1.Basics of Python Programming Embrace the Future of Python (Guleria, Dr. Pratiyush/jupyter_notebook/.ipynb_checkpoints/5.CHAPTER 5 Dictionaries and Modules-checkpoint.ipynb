{
 "cells": [
  {
   "cell_type": "code",
   "execution_count": null,
   "metadata": {},
   "outputs": [],
   "source": [
    "CHAPTER 5\n",
    "Dictionaries and Modules\n",
    "Dictionaries in Python\n",
    "Dictionary in Python is a set of key:value pairs in an unordered form. The\n",
    "empty dictionary in Python is represented in curly braces {}. Here, each\n",
    "element has mapping with a certain value. Here, an element represents the\n",
    "index which can be integer or string just like Associative arrays in PHP.\n",
    "Syntax of Empty Dictionary is:{}.\n",
    "Note: In Python, Dictionary has no order. While writing key and values, it\n",
    "can be written in single, double, and in triple quotes as well because\n",
    "python supports it, but the output will be in single quotes only."
   ]
  },
  {
   "cell_type": "code",
   "execution_count": null,
   "metadata": {},
   "outputs": [],
   "source": [
    "Program 5.1: To create an empty dictionary\n",
    "Save the program as: d1.py\n",
    "course = {} # Syntax of Empty Dictionary\n",
    "course[\"Java\"]=\"4 weeks only\"\n",
    "course[\"DotNet\"]=\"6 weeks only\"\n",
    "course[\"php\"]=\"6 weeks only\"\n",
    "course[\"Android\"]=\"8 weeks only\"\n",
    "print(course[\"Android\"])\n",
    "print(course[\"php\"])\n",
    "The output of the Program 5.1 is shown in figure 5.1."
   ]
  },
  {
   "cell_type": "code",
   "execution_count": null,
   "metadata": {},
   "outputs": [],
   "source": [
    "Program 5.2: To create a dictionary and add element to it.Save a file as: d2.py\n",
    "course = {}\n",
    "course[\"Java\"]=\"Used in Mobile Applications\"\n",
    "course[\"DotNet\"]=\"For Web Based Applications\"\n",
    "course[\"1\"]=\"php an open source for web applications\"\n",
    "course[\"2\"]=\"Android for Mobile Computing\"\n",
    "print(course[\"1\"])\n",
    "print(course[\"2\"])\n",
    "print(course[\"DotNet\"])\n",
    "The output of the Program 5.2 is shown in figure 5.2:"
   ]
  },
  {
   "cell_type": "code",
   "execution_count": null,
   "metadata": {},
   "outputs": [],
   "source": [
    "Program 5.3: To add and delete key-value pairs in dictionary\n",
    "Save the file as: d3.py\n",
    "course = {}\n",
    "course[\"Java\"]=\"Used in Mobile Applications\"\n",
    "course[\"DotNet\"]=\"For Web Based Applications\"\n",
    "course[\"1\"]=\"php an open source for web applications\"\n",
    "course[\"2\"]=\"Android for Mobile Computing\"\n",
    "print(course) #print complete dictionary in key-value pairs\n",
    "form\n",
    "print(course[\"1\"])\n",
    "course[\"Python\"] = \"Machine Learning\" #add new dictionary key-\n",
    "value pair\n",
    "del course[\"Java\"] # delete this key-value pair\n",
    "print(course[\"DotNet\"])The output of the Program 5.3 is shown in figure 5.3:"
   ]
  },
  {
   "cell_type": "code",
   "execution_count": null,
   "metadata": {},
   "outputs": [],
   "source": [
    "Modules\n",
    "A module is a set of statements or just like functions which can be included\n",
    "into an application. Modules can contain variables like arrays, objects, and\n",
    "so on.\n",
    "Example 5.1\n",
    "a. First save this module with filename “testmodule.py”\n",
    "def course(n):\n",
    "print(\"So you are interested in,\" + n)\n",
    "b. “testmodule1.py”\n",
    "import testmodule\n",
    "testmodule.course(\"Python\")\n",
    "Note: The “testmodule.course” statement is used in “testmodule1.py” file\n",
    "where testmodule is the name of module saved in the program and course\n",
    "is the name of function defined with the keyword “def” and “Python” is\n",
    "passed as parameter. The import statement is used to import the module."
   ]
  },
  {
   "cell_type": "code",
   "execution_count": null,
   "metadata": {},
   "outputs": [],
   "source": [
    "Example 5.2: Define the variables of all types in a module named\n",
    "“coursemodule.py” and this module is then called in “coursemodule1.py”\n",
    "file.\n",
    "coursemodule.py\n",
    "coursename = {\n",
    "\"coursename\":\"Java\",\n",
    "\"fees\":4000,\n",
    "\"duration\":\"Four weeks\"\n",
    "}\n",
    "coursemodule1.py\n",
    "In this program, import statement is used to import the module named\n",
    "“coursemodule”. The function defined in this module i.e. coursename is\n",
    "called in “coursemodule1.py” and “fees” is passed as a parameter.\n",
    "import coursemodule\n",
    "fees = coursemodule.coursename[\"fees\"]\n",
    "print(\"The fees for the course is\", fees)\n",
    "The output of the Example 5.2 is shown in figure 5.5:"
   ]
  }
 ],
 "metadata": {
  "kernelspec": {
   "display_name": "Python 3",
   "language": "python",
   "name": "python3"
  },
  "language_info": {
   "codemirror_mode": {
    "name": "ipython",
    "version": 3
   },
   "file_extension": ".py",
   "mimetype": "text/x-python",
   "name": "python",
   "nbconvert_exporter": "python",
   "pygments_lexer": "ipython3",
   "version": "3.7.6"
  }
 },
 "nbformat": 4,
 "nbformat_minor": 4
}
