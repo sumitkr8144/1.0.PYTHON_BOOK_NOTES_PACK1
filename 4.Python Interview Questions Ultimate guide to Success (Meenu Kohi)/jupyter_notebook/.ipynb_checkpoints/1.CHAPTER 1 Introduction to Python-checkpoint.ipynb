{
 "cells": [
  {
   "cell_type": "code",
   "execution_count": null,
   "metadata": {},
   "outputs": [],
   "source": [
    "CHAPTER 1\n",
    "Introduction to Python\n",
    "Python\n",
    "Python is a very popular programming language. It is known for\n",
    "being an interactive and object oriented programming language.\n",
    "Free software, open source language with huge number of\n",
    "volunteers who are working hard to improve it. This is the main\n",
    "reason why the language is current with the newest trends.\n",
    "It has several libraries which help build powerful code in short\n",
    "span of time.\n",
    "It is a very simple, powerful, and general purpose computer\n",
    "programming language.\n",
    "Python is easy to learn and easy to implement.\n",
    "Well known corporations are using Python to build their site.\n",
    "Some of the well know websites built in Python are as follows:\n",
    "Main reason for popularity of Python programming language is\n",
    "simplicity of the code.\n",
    "You require no skills to learn Python"
   ]
  },
  {
   "cell_type": "code",
   "execution_count": null,
   "metadata": {},
   "outputs": [],
   "source": [
    "Question: What can you do with python?\n",
    "Answer: There is no limit to what can be achieved with the help\n",
    "of Python Programming:\n",
    "Python can be used for small or large, online or offline\n",
    "applications.\n",
    "Developers can code using fewer lines of code compared to other\n",
    "languages.\n",
    "Python is widely used for developing web applications as it has a\n",
    "dynamic system and automatic memory management is one of its\n",
    "strongest points.\n",
    "Some of the very well-known Python framework are: Pyramid,\n",
    "Django, and Flask.\n",
    "Python is also used for simple scripting and scientific modelling\n",
    "and big data applications:It is the number one choice for several data scientists.\n",
    "Its libraries such as NumPy, Pandas data visualization libraries\n",
    "such as Matplotlib and Seaborn have made Python very popular\n",
    "in this field.\n",
    "Python also has some interesting libraries such as Scikit-Learn,\n",
    "NLTK, and TensorFlow that implement Machine learning\n",
    "Algorithms.\n",
    "Video Game can be created using PyGame module. Such\n",
    "applications can run on Android devices.\n",
    "Python can be used for web scrapping.\n",
    "Selenium with Python can be used for things like opening a\n",
    "browser or posting a status on Facebook.\n",
    "Modules such a Tkinter and PyQt allow you to build a GUI\n",
    "desktop application."
   ]
  },
  {
   "cell_type": "code",
   "execution_count": null,
   "metadata": {},
   "outputs": [],
   "source": [
    "Question: Why is Python considered to be a highly versatile\n",
    "programming language?\n",
    "Python is considered to be a high versatile programming language\n",
    "because it supports multiple models of programming such as:OOP\n",
    "Functional\n",
    "Imperative\n",
    "Procedural"
   ]
  },
  {
   "cell_type": "code",
   "execution_count": null,
   "metadata": {},
   "outputs": [],
   "source": [
    "Question: What are the advantages of choosing Python over any\n",
    "other programming language?\n",
    "The advantages of selecting Python over other programming\n",
    "languages are as follows:\n",
    "Extensible in C and C++.\n",
    "It is dynamic in nature.\n",
    "Easy to learn and easy to implement.\n",
    "Third party operating modules are present: As the name suggests\n",
    "a third party module is written by third party which means\n",
    "neither you nor the python writers have developed it. However,\n",
    "you can make use of these modules to add functionality to your\n",
    "code."
   ]
  },
  {
   "cell_type": "code",
   "execution_count": null,
   "metadata": {},
   "outputs": [],
   "source": [
    "Question: What do you mean when you say that Python is an\n",
    "interpreted language?When we say that Python is an interpreted language it means\n",
    "that python code is not compiled before execution. Code written\n",
    "in compiled languages such as Java can be executed directly on\n",
    "the processor because it is compiled before runtime and at the\n",
    "time of execution it is available in the form of machine language\n",
    "that the computer can understand. This is not the case with\n",
    "Python. It does not provide code in machine language before\n",
    "runtime. The translation of code to machine language occurs\n",
    "while the program is being executed."
   ]
  },
  {
   "cell_type": "code",
   "execution_count": null,
   "metadata": {},
   "outputs": [],
   "source": [
    "Question: Are there any other interpreted languages that you have\n",
    "heard of ?\n",
    "Some frequently used interpreted programming languages are as\n",
    "follows:\n",
    "Python\n",
    "Pearl\n",
    "JavaScript\n",
    "PostScript\n",
    "PHP\n",
    "PowerShell"
   ]
  },
  {
   "cell_type": "code",
   "execution_count": null,
   "metadata": {},
   "outputs": [],
   "source": [
    "Question: Is Python dynamically typed?\n",
    "Yes, Python is dynamically typed because in a code we need not\n",
    "specify the type of variables while declaring them. The type of a\n",
    "variable is not known until the code is executed."
   ]
  },
  {
   "cell_type": "code",
   "execution_count": null,
   "metadata": {},
   "outputs": [],
   "source": [
    "Question: Python is a high level programming language? What is\n",
    "a need for high level programming languages?\n",
    "Answer: High level programming languages act as a bridge\n",
    "between the machine and humans. Coding directly in machine\n",
    "language can be a very time consuming and cumbersome process\n",
    "and it would definitely restrict coders from achieving their goals.\n",
    "High level programming languages like Python, JAVA, C++, etc are\n",
    "easy to understand. They are tools which the programmers can\n",
    "use for advanced level programming. High level languages allow\n",
    "developers to code complex code that is then translated to\n",
    "machine language so that the computer can understand what\n",
    "needs to be done."
   ]
  },
  {
   "cell_type": "code",
   "execution_count": null,
   "metadata": {},
   "outputs": [],
   "source": []
  },
  {
   "cell_type": "code",
   "execution_count": null,
   "metadata": {},
   "outputs": [],
   "source": [
    "Question: Is it true that Python can be easily integrated with C,\n",
    "C++, COM, ActiveX, CORBA, and Java?\n",
    "Yes"
   ]
  },
  {
   "cell_type": "code",
   "execution_count": null,
   "metadata": {},
   "outputs": [],
   "source": [
    "Question: What are different modes of programming in Python?\n",
    "Answer: There are two modes of programming in Python:Python:\n",
    "Python:\n",
    "Python:\n",
    "Python:\n",
    "Python: Python:\n",
    "Python:\n",
    "Python:\n",
    "Python:\n",
    "Python: Pytho"
   ]
  },
  {
   "cell_type": "code",
   "execution_count": null,
   "metadata": {},
   "outputs": [],
   "source": [
    "Question: Draw comparison between Java and Python."
   ]
  },
  {
   "cell_type": "code",
   "execution_count": null,
   "metadata": {},
   "outputs": [],
   "source": [
    "Question: Once Python is installed, how can we start working on\n",
    "code?"
   ]
  },
  {
   "cell_type": "code",
   "execution_count": null,
   "metadata": {},
   "outputs": [],
   "source": [
    "Question: What is the function of interactive shell?\n",
    "The interactive shell stands between the commands given by the\n",
    "user and the execution done by the operating system. It allows\n",
    "users to use easy shell commands and the user need not be\n",
    "bothered about the complicated basic functions of the Operating\n",
    "System. This also protects the operating system from incorrect\n",
    "usage of system functions."
   ]
  },
  {
   "cell_type": "code",
   "execution_count": null,
   "metadata": {},
   "outputs": [],
   "source": [
    "Question: How to exit interactive mode?\n",
    "Answer: Ctrl+D or exit() can be used to quit interactive mode."
   ]
  },
  {
   "cell_type": "code",
   "execution_count": null,
   "metadata": {},
   "outputs": [],
   "source": [
    "Question: Which character set does Python use?\n",
    "Python uses traditional ASCII character set."
   ]
  },
  {
   "cell_type": "code",
   "execution_count": null,
   "metadata": {},
   "outputs": [],
   "source": [
    "Question: What is the purpose of indentation in Python?\n",
    "Indentation is one of the most distinctive features of Python.\n",
    "While in other programming languages, developers use indentation\n",
    "to keep their code neat but in case of Python, indentation is\n",
    "required to mark the beginning of a block or to understand\n",
    "which block the code belongs to. No braces are used to mark\n",
    "blocks of code in Python. Blocks in code are required to definefunctions, conditional statements, or loops. These blocks are\n",
    "created simply by correct usage of spaces. All statements that are\n",
    "same distance from the right belong to the same block.\n",
    "Figure 1\n",
    "The first line of the block always ends with a semicolon (:).\n",
    "Code under the first line of block is indented. The preceding\n",
    "diagram depicts a scenario of indented blocks.\n",
    "Developers generally use four spaces for the first level and eight\n",
    "spaces for a nested block, and so on."
   ]
  },
  {
   "cell_type": "code",
   "execution_count": null,
   "metadata": {},
   "outputs": [],
   "source": [
    "Question: Explain Memory Management in Python.Memory management is required so that partial or complete\n",
    "section of computer’s memory can be reserved for executing\n",
    "programs and processes. This method of providing memory is\n",
    "called memory allocation. Also, when data is no longer required,\n",
    "it must be removed. Knowledge of memory management helps\n",
    "developers develop efficient code.\n",
    "Python makes use of its private heap space for memory\n",
    "management. All object structures in Python are located in this\n",
    "private heap (which is not accessible by the programmer).\n",
    "Python’s memory manager ensures that this heap space is\n",
    "allocated judiciously to the objects and data structures. An in\n",
    "built garbage collector in Python recycles the unused memory so\n",
    "that it is available in heap space.\n",
    "Everything in Python is an object. Python has different types of\n",
    "objects, such as simple objects which consist of numbers and\n",
    "strings and container objects such as dict, list, and user defined\n",
    "classes. These objects can be accessed by an identifier- name.\n",
    "Now, let’s have a look at how the things work.\n",
    "Suppose, we assign value of 5 to a variable\n",
    "a = 5\n",
    "Here, ‘5’ is an integer object in memory and ‘a’ has reference to\n",
    "this integer object.Figure 2\n",
    "In the above illustration, the id() function provides a unique\n",
    "identification number of an object. This unique identification\n",
    "number is an integer value which will remain unique and\n",
    "constant for the object during its lifetime. Two objects with non-\n",
    "overlapping lifetimes can have the same id() value.\n",
    "The id for integer object 5 is 140718128935888. Now we assign\n",
    "the same value 5 to variable b. You can see in the following\n",
    "diagram that both a and b have reference to the same object.Figure 3\n",
    "Now, let us say:\n",
    "c = b.\n",
    "This means, c too will have reference to the same object.\n",
    "Figure 4\n",
    "Now, suppose we perform the following operation:\n",
    "a =a+1\n",
    "This means that a is now equal to 6 and now refers to a\n",
    "different object.Figure 5\n",
    "Some amount of memory organization is done for every\n",
    "instruction. The underlying operating system allocates some\n",
    "amount of memory for every operation. The Python interpreter\n",
    "gets its share of memory depending on various factors such as\n",
    "version, platform and environment.\n",
    "The memory assigned to the interpreter is divided into the\n",
    "following:\n",
    "1. Stack:a. Here all methods are executed.\n",
    "b. References to objects in the heap memory are created in stack\n",
    "memory.\n",
    "2. Heap:\n",
    "a. The objects are created in Heap memory.\n",
    "Figure 6\n",
    "Now let’s have a look at how the things work with the help of\n",
    "an example. Look at the following piece of the code:\n",
    "def function1(x):\n",
    "value1 = (x + 5)* 2\n",
    "value2 = function2(value1)\n",
    "return value2\n",
    "def function2(x):\n",
    "x = (x*10)+5\n",
    "return xx = 5\n",
    "final_value = function1(x)\n",
    "print(“Final value = “, final_value)\n",
    "Now, let’s see how this works. The program’s execution starts\n",
    "from main which in this case is:\n",
    "x = 5\n",
    "final_value = function1(x)\n",
    "print(“Final value = “, final_value)\n",
    "Step 1: execute x =5\n",
    "This creates integer object 5 in the heap and reference to this\n",
    "object i.e. x is created in the main stack memory.Figure 7\n",
    "Step 2: is to execute final_value = function1(x)\n",
    "This statement calls\n",
    "def function1(x):\n",
    "value1 = (x + 5)* 2\n",
    "value2 = function2(value1)\n",
    "return value2\n",
    "In order to execute function1() a new stack frame is added in the\n",
    "memory. Till the time function1() is being executed the lower stack\n",
    "frame of x referencing to 5 is put hold. The integer value 5 is\n",
    "passed as parameter to this function.Figure 8\n",
    "Now, value1 = (x+5)* 2 = (5+5)*2 = 10*2 = 20\n",
    "Figure 9\n",
    "function1() assigns the value of 50 to\n",
    "The next step is: value2 = function2(value1)Here function2() is called to evaluate a value that needs to be\n",
    "passed on to In order to accomplish this, another memory stack\n",
    "is created. The integer object value1 having a value of 20 is\n",
    "passed as reference to\n",
    "Figure 10\n",
    "def function2(x):\n",
    "x = (x*10)+5\n",
    "return xThe function function2() evaluates the following expression and\n",
    "returns the value:\n",
    "x = (x*10)+5\n",
    "x = (20*10)+5 = (200)+5 = 205\n",
    "Figure 11\n",
    "The function function2() is fully executed and value 205 is\n",
    "assigned to value2 in function 1. So, now the stack for\n",
    "function(2) is removed.Figure 12\n",
    "Now function1() will return the value 205 and it will be assigned\n",
    "to final_ value in main stack.\n",
    "Figure 13Here it is important to note that you would see that x exists in\n",
    "the main as well as in different functions but the values don’t\n",
    "interfere with each other as each x is in a different memory stack."
   ]
  },
  {
   "cell_type": "code",
   "execution_count": null,
   "metadata": {},
   "outputs": [],
   "source": [
    "Question: Explain Reference counting and Garbage collection in\n",
    "Python.\n",
    "Unlike languages like C/ C++, the process of allocation and\n",
    "deallocation of memory in Python is automatic. This is achieved\n",
    "with the help of reference counting and garbage\n",
    "As the name suggests, reference counting counts the number of\n",
    "times an object is referred to by other objects in a program.\n",
    "Every time a reference to an object is eliminated, the reference\n",
    "count decreases by 1. As soon as the reference count becomes\n",
    "zero, the object is deallocated. An object’s reference count\n",
    "decreases when an object is deleted, reference is reassigned or\n",
    "the object goes out of scope. The reference count increases when\n",
    "an object is assigned a name or placed in a container.\n",
    "Garbage collection on the other hand allows Python to free and\n",
    "reclaim blocks of memory that are no longer of any use. This\n",
    "process is carried out periodically. Garbage collector runs while\n",
    "the program is being executed and the moment the reference\n",
    "count of an object reaches zero, the garbage collector is\n",
    "triggered."
   ]
  },
  {
   "cell_type": "code",
   "execution_count": null,
   "metadata": {},
   "outputs": [],
   "source": [
    "Question: What are multi-line statements?All the statements in Python end with a newline. If there is a\n",
    "long statement, then it is a good idea to extend it over multiple\n",
    "lines. This can be achieved using the continuation character\n",
    "Explicit line continuation is when we try to split a statement into\n",
    "multiple lines where as in case of implicit line continuation we try\n",
    "to split parentheses, brackets, and braces into multiple lines.\n",
    "Example for multiple line statements:\n",
    ">>> first_num = 54\n",
    ">>> second_num = 879\n",
    ">>> third_num = 876\n",
    ">>> total = first_num +\\\n",
    "second_num+\\\n",
    "third_num\n",
    ">>> total\n",
    "1809>>>\n",
    "Implicit:\n",
    ">>> weeks=[‘Sunday’,\n",
    "‘Monday’,\n",
    "‘Tuesday’,\n",
    "‘Wednesday’,\n",
    "‘Thursday’,\n",
    "‘Friday’,\n",
    "‘Saturday’]\n",
    ">>> weeks\n",
    "[‘Sunday’, ‘Monday’, ‘Tuesday’, ‘Wednesday’,\n",
    "‘Thursdy’, ‘Friday’, ‘Saturday’]\n",
    ">>>"
   ]
  },
  {
   "cell_type": "code",
   "execution_count": null,
   "metadata": {},
   "outputs": [],
   "source": [
    "Question: What are the types of error messages in Python?\n",
    "While working with Python you can come across:\n",
    "across:\n",
    "across: across:\n",
    "Syntax errors are static errors that are encountered when the\n",
    "interpreter is reading the program. If there is any mistake in the\n",
    "code then the interpreter will display a syntax error message and\n",
    "the program will not be executed.\n",
    "Run time errors as the name suggests are dynamic error. They\n",
    "are detected while the program is executing. Such errors are bugs\n",
    "in the program that may require design change such as running\n",
    "out of memory, dividing a number by zero, and so on."
   ]
  },
  {
   "cell_type": "code",
   "execution_count": null,
   "metadata": {},
   "outputs": [],
   "source": [
    "Question: What are the advantages of Python’s IDLE environment?\n",
    "The Python IDLE environment has the following:\n",
    "Python’s interactive mode\n",
    "Tools for writing and running programs\n",
    "It comes along with the text editors which can be used for\n",
    "working on scripts"
   ]
  },
  {
   "cell_type": "code",
   "execution_count": null,
   "metadata": {},
   "outputs": [],
   "source": [
    "Question: What is a comment?A comment is one or more statements used to provide\n",
    "documentation or information about a piece of code in a\n",
    "program. In Python one line comments start with ‘#’."
   ]
  },
  {
   "cell_type": "code",
   "execution_count": null,
   "metadata": {},
   "outputs": [],
   "source": [
    "Question: Is Python a case - sensitive programming language?\n",
    "Yes"
   ]
  }
 ],
 "metadata": {
  "kernelspec": {
   "display_name": "Python 3",
   "language": "python",
   "name": "python3"
  },
  "language_info": {
   "codemirror_mode": {
    "name": "ipython",
    "version": 3
   },
   "file_extension": ".py",
   "mimetype": "text/x-python",
   "name": "python",
   "nbconvert_exporter": "python",
   "pygments_lexer": "ipython3",
   "version": "3.7.6"
  }
 },
 "nbformat": 4,
 "nbformat_minor": 4
}
