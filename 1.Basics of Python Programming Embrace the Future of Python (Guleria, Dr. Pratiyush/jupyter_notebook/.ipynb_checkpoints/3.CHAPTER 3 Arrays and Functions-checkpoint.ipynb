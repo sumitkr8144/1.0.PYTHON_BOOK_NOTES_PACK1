{
 "cells": [
  {
   "cell_type": "code",
   "execution_count": null,
   "metadata": {},
   "outputs": [],
   "source": [
    "CHAPTER 3\n",
    "Arrays and Functions"
   ]
  },
  {
   "cell_type": "code",
   "execution_count": null,
   "metadata": {},
   "outputs": [],
   "source": []
  },
  {
   "cell_type": "code",
   "execution_count": null,
   "metadata": {},
   "outputs": [],
   "source": [
    "Arrays are the variables having similar data type. Arrays in python contain values corresponding to the same data \n",
    "type whereas lists which are somewhere like arrays which contain values corresponding to different data types. \n",
    "Arrays contain more than one value at a time and indexing is used to refer to an array element."
   ]
  },
  {
   "cell_type": "code",
   "execution_count": null,
   "metadata": {},
   "outputs": [],
   "source": [
    "Program 3.1: To find the length of an array\n",
    "a = [56, 57, 89]\n",
    "i = a [0] # 56 is at the 0th index\n",
    "print (i)\n",
    "a.append(90) # append() function is used to add element at the\n",
    "last in array\n",
    "i = a[3]\n",
    "print(i)\n",
    "k = len(a) # find the length of the array\n",
    "print 'The length of array is',format(k)\n",
    "The output of the Program 3.1 is shown in figure 3.1."
   ]
  },
  {
   "cell_type": "code",
   "execution_count": null,
   "metadata": {},
   "outputs": [],
   "source": [
    "Program 3.2: To test whether the value passed in a variable is found in\n",
    "the given sequence or not by using membership operator “in”.\n",
    "name=\"sohan\"\n",
    "if name in[\"akhil\",\"sohan\"]:print(\"Your name is either vijay or sohan\")\n",
    "The output of the Program 3.2 is shown in figure 3.2."
   ]
  },
  {
   "cell_type": "code",
   "execution_count": null,
   "metadata": {},
   "outputs": [],
   "source": [
    "Program 3.3: To use if else statement in array\n",
    "a=[\"C\",\"C++\"]\n",
    "course=raw_input(\"Enter the course\")\n",
    "if course in a:\n",
    "print(\"This course is available\")\n",
    "else:\n",
    "print(\"This course is not available\")\n",
    "The output of the Program 3.3 is shown in figure 3.3."
   ]
  },
  {
   "cell_type": "code",
   "execution_count": null,
   "metadata": {},
   "outputs": [],
   "source": [
    "Program 3.4: To find the length of an array by using len() function\n",
    "lst = [23,56,67] # array is declared\n",
    "val = len(lst) # length of the array is obtained using len()\n",
    "function\n",
    "print(val) # output 3 will be printed\n",
    "The output of the Program 3.4 is shown in figure 3.4."
   ]
  },
  {
   "cell_type": "code",
   "execution_count": null,
   "metadata": {},
   "outputs": [],
   "source": [
    "Program 3.5: To display values from 0 to 9 by using for loop and arrays\n",
    "In this program, range () function is used to return the sequence of numbers.\n",
    "The range starts from 0 by default and the value will be incremented by 1 by\n",
    "default.\n",
    "for i in range(10):\n",
    "print(i)\n",
    "The output of the Program 3.5 is shown in figure 3.5."
   ]
  },
  {
   "cell_type": "code",
   "execution_count": null,
   "metadata": {},
   "outputs": [],
   "source": [
    "Functions\n",
    "A function is a block of statements which runs only when it is called. In\n",
    "functions, data can be passed by using parameters and the value is returned\n",
    "as an output. The advantage of functions is its reusability. The code can be\n",
    "utilized in more than one place in a program by using the functionname.\n",
    "With the help of functions, there is no need to write the statements again and\n",
    "again for performing the same task.\n",
    "Note: In Python, def keyword is used to define a function."
   ]
  },
  {
   "cell_type": "code",
   "execution_count": null,
   "metadata": {},
   "outputs": [],
   "source": [
    "Note: In Python, def keyword is used to define a function.\n",
    "Program 3.6: Functions\n",
    "In this program, a function is defined with the name printinfo () having\n",
    "two parameters i.e. name, address, and both are of string type.\n",
    "def printinfo(name,address):\n",
    "print \"Name: \", name\n",
    "print \"Address \", address\n",
    "return;\n",
    "printinfo(name=“Pratiyush Guleria”, address=“Shimla”)\n",
    "# function printinfo() is called here and name, address are\n",
    "passed as arguments.\n",
    "The output of the Program 3.6 is shown in figure 3.6:"
   ]
  },
  {
   "cell_type": "code",
   "execution_count": null,
   "metadata": {},
   "outputs": [],
   "source": [
    "Example 3.1: To use global variable\n",
    "In this program, the global variable “total” is declared and inside the\n",
    "function, the local variable “total” is declared. The local variable has the\n",
    "scope inside the function and can be used inside the function only whereas\n",
    "the global variable has its scope outside the function also.\n",
    "total = 0; # Global variable is declared\n",
    "def sum( arg1, arg2 ): # function sum() is defined here\n",
    "total = arg1 + arg2; # local variable is declared\n",
    "print \"Inside the function local total: \", total\n",
    "return total;\n",
    "sum( 10, 20); # function is called\n",
    "print \"Outside the function global total: \", total\n",
    "The output of the Example 3.1 is shown in figure 3.7:"
   ]
  },
  {
   "cell_type": "code",
   "execution_count": null,
   "metadata": {},
   "outputs": [],
   "source": [
    "Program 3.7: Write a calculator program by using function\n",
    "In this program, the menu() function is defined with five options just like\n",
    "in switch case statements. On pressing the option 1, the add () function\n",
    "for addition is called, for option 2, sub () function is called for subtraction\n",
    "and same is the case for other options.def menu():\n",
    "print \"your options are:\"\n",
    "print \" \"\n",
    "print \"1) Addition\"\n",
    "print \"2) Subtraction\"\n",
    "print \"3) Multiplication\"\n",
    "print \"4) Division\"\n",
    "print \"5) Quit \"\n",
    "print \" \"\n",
    "return input (\"Choose your option: \")\n",
    "# this adds two numbers given\n",
    "def add(a,b): # add() function is defined\n",
    "print a, \"+\", b, \"=\", a + b\n",
    "# this subtracts two numbers given\n",
    "def sub(a,b): # sub() function is defined\n",
    "print b, \"-\", a, \"=\", b - a\n",
    "# this multiplies two numbers given\n",
    "def mul(a,b): # mul() function is defined\n",
    "print a, \"*\", b, \"=\", a * b\n",
    "# this divides two numbers given\n",
    "def div(a,b): # div() function is defined\n",
    "print a, \"/\", b, \"=\", a / b\n",
    "loop = 1\n",
    "choice = 0\n",
    "while loop == 1:\n",
    "choice = menu() # menu () function is called here\n",
    "if choice == 1:\n",
    "add(input(\"Add this: \"),input(\"to this: \")) # inputs from\n",
    "user are passed as # parameter in function\n",
    "elif choice == 2:\n",
    "sub(input(\"Subtract this: \"),input(\"from this: \"))\n",
    "elif choice == 3:\n",
    "mul(input(\"Multiply this: \"),input(\"by this: \"))\n",
    "elif choice == 4:\n",
    "div(input(\"Divide this: \"),input(\"by this: \"))elif choice == 5:\n",
    "loop = 0\n",
    "print \"Thankyou!\"\n",
    "The output of Program 3.7 is shown in figure 3.8."
   ]
  },
  {
   "cell_type": "code",
   "execution_count": null,
   "metadata": {},
   "outputs": [],
   "source": [
    "Program 3.8: Program to return the absolute value of the entered\n",
    "number\n",
    "def absval(num):\n",
    "# \"\"\"This function returns the absolute value of the entered\n",
    "number\"\"\"\n",
    "if num >= 0:\n",
    "return num\n",
    "else:\n",
    "return -num\n",
    "print(absval(2))\n",
    "print(absval(-4))\n",
    "The output of the Program 3.8 is shown in figure 3.9."
   ]
  },
  {
   "cell_type": "code",
   "execution_count": null,
   "metadata": {},
   "outputs": [],
   "source": [
    "Program 3.9: Write a program to sort array elements\n",
    "In this program, the built-in sort\n",
    "an array.\n",
    "()\n",
    "function is used to sort the elements of\n",
    "n = [15, 1, 10, 45]\n",
    "n.sort ()\n",
    "print (n)\n",
    "The output of the Program 3.9 is shown in figure 3.10."
   ]
  }
 ],
 "metadata": {
  "kernelspec": {
   "display_name": "Python 3",
   "language": "python",
   "name": "python3"
  },
  "language_info": {
   "codemirror_mode": {
    "name": "ipython",
    "version": 3
   },
   "file_extension": ".py",
   "mimetype": "text/x-python",
   "name": "python",
   "nbconvert_exporter": "python",
   "pygments_lexer": "ipython3",
   "version": "3.7.6"
  }
 },
 "nbformat": 4,
 "nbformat_minor": 4
}
