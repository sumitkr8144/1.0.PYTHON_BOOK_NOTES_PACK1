{
 "cells": [
  {
   "cell_type": "code",
   "execution_count": null,
   "metadata": {},
   "outputs": [],
   "source": [
    "CHAPTER 9 Exception Handling"
   ]
  },
  {
   "cell_type": "code",
   "execution_count": null,
   "metadata": {},
   "outputs": [],
   "source": [
    "CHAPTER 9\n",
    "Exception Handling\n",
    "Exception is an error occur during the execution of the program. It\n",
    "provides user-friendly interface to handle the exception and prompts\n",
    "message to the user stating the reason of such unexpected exceptions like\n",
    "“dividing a number by zero”.\n",
    "Note: try and except are Python Keywords to monitor the exceptions\n",
    "occurred in the programs.\n",
    "Program 9.1: Write a Program of Exception error occurred due to\n",
    "inappropriate values\n",
    "import sys\n",
    "try:\n",
    "no = int(raw_input(\"Enter a number\"))\n",
    "except ValueError:\n",
    "print \"Enter only numbers\"\n",
    "sys.exit()\n",
    "print \"you entered number\",no\n",
    "Note: Value Error: This exception error is raised when an inappropriate\n",
    "value is passed. Example:In Program9.1, string is entered in place of\n",
    "integer as a value.\n",
    "The output of the Program 9.1 is shown in figure 9.1:"
   ]
  },
  {
   "cell_type": "code",
   "execution_count": null,
   "metadata": {},
   "outputs": [],
   "source": [
    "Program 9.2: Write a program in which an Exception Error is raised\n",
    "due to different data types\n",
    "import sys\n",
    "try:\n",
    "a =5\n",
    "b = 'ABC'\n",
    "c = a + b\n",
    "except TypeError:\n",
    "print ('Caught Exception')\n",
    "Note: TypeError: This exception error is raised when we try to add\n",
    "integer and string which are of different types.\n",
    "The output of the Program 9.2 is shown in figure 9.2:"
   ]
  },
  {
   "cell_type": "code",
   "execution_count": null,
   "metadata": {},
   "outputs": [],
   "source": [
    "Program 9.3: Program of IOError Exception\n",
    "In this program, the IOError Exception comes when the mode is changed\n",
    "from “w” (write mode) to “r” (read mode) of the file else the program runs\n",
    "successfully and writes the data into the file i.e. “test2.txt”.\n",
    "#!/usr/bin/python\n",
    "try:\n",
    "fo = open(\"test2.txt\", \"w\")\n",
    "fo.write(\"This is test file\")\n",
    "except IOError:\n",
    "print \"Error: enable to find file or read data\"\n",
    "else:\n",
    "print \"data written in the file successfully\"\n",
    "finally:\n",
    "fo.close()\n",
    "The output of the Program 9.3 is shown in figure 9.3:"
   ]
  },
  {
   "cell_type": "code",
   "execution_count": null,
   "metadata": {},
   "outputs": [],
   "source": [
    "Note: On changing the “mode” from “w” to “r”, the Exception is raised i.e.\n",
    "“enable to find file or read data”."
   ]
  },
  {
   "cell_type": "code",
   "execution_count": null,
   "metadata": {},
   "outputs": [],
   "source": [
    "Program 9.4: Program of Module Not Found Exception\n",
    "First, create a module and save it as “test.py” and import it in “Module1.py”\n",
    "“test.py”\n",
    "def sub(a, b):\n",
    "c = a - b\n",
    "return c\n",
    "“Module1.py”\n",
    "try:\n",
    "# import statement is used to import the module i.e. test\n",
    "import test\n",
    "# function sub() is called and parameters are passed as 4,3\n",
    "d=test.sub(4,3)\n",
    "print \"The output is\",d\n",
    "except ImportError as exc:\n",
    "print \"Module not exists\"\n",
    "In Module1.py, the module test is imported in which sub function is defined\n",
    "and the parameters are passed as 4, 3 in a, b which shows the output as 1, buton changing the name of module, an exception is occurred and the output is\n",
    "shown as “Module not exists” as shown in figure 9.4."
   ]
  },
  {
   "cell_type": "code",
   "execution_count": null,
   "metadata": {},
   "outputs": [],
   "source": []
  }
 ],
 "metadata": {
  "kernelspec": {
   "display_name": "Python 3",
   "language": "python",
   "name": "python3"
  },
  "language_info": {
   "codemirror_mode": {
    "name": "ipython",
    "version": 3
   },
   "file_extension": ".py",
   "mimetype": "text/x-python",
   "name": "python",
   "nbconvert_exporter": "python",
   "pygments_lexer": "ipython3",
   "version": "3.7.6"
  }
 },
 "nbformat": 4,
 "nbformat_minor": 4
}
