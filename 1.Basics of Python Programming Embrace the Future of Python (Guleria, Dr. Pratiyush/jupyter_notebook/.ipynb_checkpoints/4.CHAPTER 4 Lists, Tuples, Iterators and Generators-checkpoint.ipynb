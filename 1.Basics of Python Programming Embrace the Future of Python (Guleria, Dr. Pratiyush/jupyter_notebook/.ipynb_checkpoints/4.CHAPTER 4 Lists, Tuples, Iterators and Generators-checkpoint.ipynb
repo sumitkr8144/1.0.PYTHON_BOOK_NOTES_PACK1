{
 "cells": [
  {
   "cell_type": "code",
   "execution_count": null,
   "metadata": {},
   "outputs": [],
   "source": [
    "CHAPTER 4\n",
    "Lists, Tuples, Iterators and Generators\n",
    "Lists\n",
    "In Python, lists work same as of arrays to store the data. Python doesn’t have\n",
    "built in support for arrays.\n",
    "Note: Arrays are used for storing large amount of data and work efficiently\n",
    "for arithmetic calculations in comparison to lists. The major difference\n",
    "between arrays and lists is that, lists are not homogeneous whereas arrays\n",
    "are homogenous. The lists can store multiple data at the same time."
   ]
  },
  {
   "cell_type": "code",
   "execution_count": null,
   "metadata": {},
   "outputs": [],
   "source": [
    "Program 4.1: To create a list and add elements to it\n",
    "mylist = [] # empty list is created\n",
    "mylist.append(1) # append() function is used to add elements\n",
    "into list\n",
    "mylist.append(2)\n",
    "mylist.append(3)\n",
    "print(mylist[0]) # prints 1\n",
    "print(mylist[1]) # prints 2\n",
    "print(mylist[2]) # prints 3\n",
    "# prints out 1,2,3\n",
    "for x in mylist: # for loop is used\n",
    "print(x)\n",
    "The output of the Program 4.1 is shown in figure 4.1."
   ]
  },
  {
   "cell_type": "code",
   "execution_count": null,
   "metadata": {},
   "outputs": [],
   "source": [
    "Program 4.2: To compare the values of two lists and display the result.\n",
    "list1\n",
    "list2\n",
    "print\n",
    "print\n",
    "= ['physics', 'chemistry', 2018, 2019];\n",
    "= [1, 2, 3, 4, 5, 6, 7];\n",
    "\"list1[0]: \", list1[0]\n",
    "\"list2[1:3]: \", list2[1:3]\n",
    "The output of the Program 4.2 is shown in figure 4.2. The output shows that\n",
    "list1 [0] will display “physics” as the output because at 0th index, physics is\n",
    "the value and in list2 [1:3] will display the values at index 1 and 2 i.e. 2 and\n",
    "3 is the output. The upper bound value will be ignored i.e. 3rd index value."
   ]
  },
  {
   "cell_type": "code",
   "execution_count": null,
   "metadata": {},
   "outputs": [],
   "source": [
    "What are Tuples?\n",
    "A tuple is a sequence of immutable Python objects. The differences between\n",
    "tuples and lists are, the tuples cannot be changed unlike lists and tuples use\n",
    "parentheses, whereas lists use square brackets.\n",
    "Creating a tuple is as simple as putting different comma-separated values.\n",
    "Optionally you can put these comma-separated values between parentheses\n",
    "also.\n",
    "Program 4.3: To create a Tuple\n",
    "#!/usr/bin/python\n",
    "tup1 = (12, 34.56);\n",
    "tup2 = ('abc', 'xyz');\n",
    "# Following declaration is not valid for tuples\n",
    "# tup1[0] = 100;\n",
    "# So, let's create a new tuple as follows\n",
    "tup3 = tup1 + tup2;\n",
    "print tup3The output of the Program 4.3 is shown in figure 4.3:"
   ]
  },
  {
   "cell_type": "code",
   "execution_count": null,
   "metadata": {},
   "outputs": [],
   "source": [
    "Python Iterators\n",
    "Iterator means repetition and they are simplified by using loops. An Iterator\n",
    "in python is an object which is iterated upon to iterate through all the values\n",
    "given.\n",
    "The two most important methods for Iterator are:\n",
    "a. __iter__()\n",
    "b. __next__()\n",
    "Iterators are effectively used with for loop and in lists,tuples,and strings.\n",
    "Program 4.4: Write a program to print list of courses by using Iterators\n",
    "In this program, a list is created and next () function is used to return the\n",
    "elements in an Iterator.\n",
    "course_list = [\"java\",\"dotnet\",\"python\"] # a list is created\n",
    "course_list = iter(course_list)\n",
    "print(next(course_list))\n",
    "print(next(course_list))\n",
    "print(next(course_list))\n",
    "The output of the Program 4.4 is shown in figure 4.4."
   ]
  },
  {
   "cell_type": "code",
   "execution_count": null,
   "metadata": {},
   "outputs": [],
   "source": [
    "Program 4.4: Write a program to print list of courses by using Iterators\n",
    "In this program, a list is created and next () function is used to return the\n",
    "elements in an Iterator.\n",
    "course_list = [\"java\",\"dotnet\",\"python\"] # a list is created\n",
    "course_list = iter(course_list)\n",
    "print(next(course_list))\n",
    "print(next(course_list))\n",
    "print(next(course_list))\n",
    "The output of the Program 4.4 is shown in figure 4.4."
   ]
  },
  {
   "cell_type": "code",
   "execution_count": null,
   "metadata": {},
   "outputs": [],
   "source": [
    "Program 4.5: Write a program by using Iterators through loops\n",
    "course_list = [\"java\",\"dotnet\",\"python\"]\n",
    "for i in course_list:\n",
    "print(i)\n",
    "The output of the Program 4.5 is shown in figure 4.5:"
   ]
  },
  {
   "cell_type": "code",
   "execution_count": null,
   "metadata": {},
   "outputs": [],
   "source": [
    "Python Generators\n",
    "Generators are simplest way of creating Iterators. Python generators are just\n",
    "like a function where the function is defined separately by using def\n",
    "keyword. It returns an object which is the Iterator itself.\n",
    "The advantage of using Generators is that, it simplifies the program and can\n",
    "be reused many times.\n",
    "Note: In Generators,in place of return statement,\"yield\" statement is used.\n",
    "In Program 4.6, a separate generator is defined with the name\n",
    "“course_generate ()” and is saved with name course_generate.py.\n",
    "Program 4.6: course_generate.py\n",
    "def course_generate():\n",
    "yield(\"C\")\n",
    "yield(\"C++\")\n",
    "yield(\"Java\")\n",
    "yield(\"Python\")\n",
    "yield(\"Php\")\n",
    "yield(\"Vb.Net\")\n",
    "yield(\"Asp.Net\")\n",
    "yield(\"Android\")\n",
    "\n",
    "Now, this generator will be called in another python program saved with\n",
    "name “generate1.py”. Here, the import statement is used to import the\n",
    "module named “course_generate”.\n",
    "“generate1.py”\n",
    "from course_generate import course_generate\n",
    "course = course_generate() # function is called here\n",
    "print(next(course)) # only first element will be printed i.e.\n",
    "“C”\n",
    "The output of the Program 4.6 is shown in figure 4.6:"
   ]
  },
  {
   "cell_type": "code",
   "execution_count": null,
   "metadata": {},
   "outputs": [],
   "source": [
    "Simplify the Program 4.6 by using loops\n",
    "“generate2.py”\n",
    "from course_generate import course_generate\n",
    "course = course_generate()\n",
    "for i in course:\n",
    "print(i)\n",
    "The output of the Program 4.6 is shown in figure 4.7 by using loops:"
   ]
  }
 ],
 "metadata": {
  "kernelspec": {
   "display_name": "Python 3",
   "language": "python",
   "name": "python3"
  },
  "language_info": {
   "codemirror_mode": {
    "name": "ipython",
    "version": 3
   },
   "file_extension": ".py",
   "mimetype": "text/x-python",
   "name": "python",
   "nbconvert_exporter": "python",
   "pygments_lexer": "ipython3",
   "version": "3.7.6"
  }
 },
 "nbformat": 4,
 "nbformat_minor": 4
}
