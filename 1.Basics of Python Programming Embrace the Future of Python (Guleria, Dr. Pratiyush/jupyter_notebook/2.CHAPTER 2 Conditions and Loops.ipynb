{
 "cells": [
  {
   "cell_type": "code",
   "execution_count": null,
   "metadata": {},
   "outputs": [],
   "source": [
    "CHAPTER 2\n",
    "Conditions and Loops\n",
    "If condition\n",
    "In Python, elif keyword is used for multiple if conditions. The elif keyword\n",
    "in Python is interpreted as:\n",
    "“if the previous conditions are not true,then try another condition use.”\n",
    "The if_ _ elif _ _ else statement is used to conditionally execute a statement\n",
    "or a block of statements.\n",
    "Program 2.1: To print number by using If condition."
   ]
  },
  {
   "cell_type": "code",
   "execution_count": null,
   "metadata": {},
   "outputs": [],
   "source": [
    "In this program a, b, c are the variables. The statement “if not a and b:”\n",
    "means if neither a is True and b is True, then print 1. The “and’’ operator is\n",
    "used here to check the conditions. The statement “elif a and b and c:” will\n",
    "be executed here because all the conditions are true (In and, all the\n",
    "conditions should be true, only then output is true whereas in or, at least\n",
    "one condition should be true.)"
   ]
  },
  {
   "cell_type": "code",
   "execution_count": null,
   "metadata": {},
   "outputs": [],
   "source": [
    "a = True\n",
    "b = True\n",
    "c = True\n",
    "if not a and b:\n",
    "print 1\n",
    "elif a and b and c:\n",
    "print 2\n",
    "elif not a or b or not b and a:\n",
    "print 3\n",
    "else:\n",
    "print 4\n",
    "Output 2.1:2"
   ]
  },
  {
   "cell_type": "code",
   "execution_count": null,
   "metadata": {},
   "outputs": [],
   "source": [
    "Program 2.2: To print name and age by using If condition.\n",
    "name=\"vijay\"\n",
    "age=23\n",
    "if name==\"vijay\" and age==23:\n",
    "print(\"your name is vijay and you are 23 years old\")\n",
    "if name==\"vijay\" or name==\"sohan\":\n",
    "print(\"your name is either vijay or sohan\")\n",
    "The output of Program 2.2 is shown in figure 2.1."
   ]
  },
  {
   "cell_type": "code",
   "execution_count": null,
   "metadata": {},
   "outputs": [],
   "source": [
    "Loops\n",
    "A loop contains the instruction which repeats until the given condition is\n",
    "satisfied or true. The advantage of loops is that it executes the multiple\n",
    "statements and avoids the unnecessary repetition of block of statements.\n",
    "Example 2.1 While loop:\n",
    "In while loop, the condition is checked first at the entry point and if the\n",
    "condition is true, then the statements in the loop works.\n",
    "i = 0\n",
    "while i < 3:\n",
    "print i\n",
    "i=i + 1\n",
    "Output:\n",
    "0\n",
    "1\n",
    "2"
   ]
  },
  {
   "cell_type": "code",
   "execution_count": null,
   "metadata": {},
   "outputs": [],
   "source": [
    "Program 2.3: To find the sum of first 5 numbers by using While LoopIn this program, the variables declared are n, s and counter. The while loop\n",
    "will check the condition first and if the condition is true, then enter in the\n",
    "program. The loop will run until the counter value is less than or equal to 5.\n",
    "n=5\n",
    "s=0\n",
    "counter=1\n",
    "while counter<=n:\n",
    "s=s+counter\n",
    "counter=counter+1\n",
    "print(\"Sum of 5 numbers is:%d\" %(s))\n",
    "The output of the Program 2.3 is shown in figure 2.2."
   ]
  },
  {
   "cell_type": "code",
   "execution_count": null,
   "metadata": {},
   "outputs": [],
   "source": [
    "Example 2.2: To use count variable in while loop\n",
    "In this, the count variable is initialized to zero and the while loop will run,\n",
    "until the condition is true. The break statement is used when the condition is\n",
    "greater than or equal to five. Here, on using the break statement, loop will\n",
    "terminate, and further iterations will be stopped.\n",
    "count = 0\n",
    "while True:\n",
    "print(count)\n",
    "count += 1 // count = count + 1 i.e. Assignment operator.\n",
    "if count >= 5:\n",
    "break\n",
    "The output of Example 2.2 is shown in figure 2.3:"
   ]
  },
  {
   "cell_type": "code",
   "execution_count": null,
   "metadata": {},
   "outputs": [],
   "source": [
    "Program 2.4: To find the reverse of a number by using while loop\n",
    "Save the file as: reverse.py\n",
    "n = int(input(\"Enter the Number\"))\n",
    "i = int(n)\n",
    "rev = 0\n",
    "while(i > 0): # while loop will execute only if the condition\n",
    "is true\n",
    "rem = i % 10 # remainder is obtained using % (modulus)\n",
    "operator\n",
    "rev = rev*10 + rem\n",
    "i = i/10\n",
    "print(\"The reverse of a no.is\",rev)\n",
    "Output Window of Program 2.4 is shown in figure 2.4."
   ]
  },
  {
   "cell_type": "code",
   "execution_count": null,
   "metadata": {},
   "outputs": [],
   "source": [
    "Example 2.3: for Loop\n",
    "In this program, a list is declared and for loop will iterate over a sequence of\n",
    "elements in a list.\n",
    "languages = [\"C\",\"C++\",\"Perl\",\"Python\"] # A list is declared\n",
    "for x in languages:\n",
    "print(x)\n",
    "for loop iterates over a sequence of elements in a list and there is no\n",
    "need to set the index."
   ]
  },
  {
   "cell_type": "code",
   "execution_count": null,
   "metadata": {},
   "outputs": [],
   "source": [
    "Example 2.4: for loop and if condition\n",
    "course = [\"java\",\"dotnet\"]\n",
    "for a in course:\n",
    "if a == \"java\":\n",
    "print(\"please do java\")\n",
    "else:\n",
    "print(\"prefer to do dotnet also\")\n",
    "The output of the Example 2.4 is shown in figure 2.6."
   ]
  },
  {
   "cell_type": "code",
   "execution_count": null,
   "metadata": {},
   "outputs": [],
   "source": [
    "Program 2.5: To print the numbers by using range() function in for loop\n",
    "In this program, range() function is used to return the sequence of numbers.\n",
    "The range starts from 0 by default and the value will be incremented by 1 by\n",
    "default.\n",
    "for x in range(5):\n",
    "print(x) # upper bound value 5 will be ignored and it prints\n",
    "from 0 to 4\n",
    "# Prints out 3,4,5\n",
    "for x in range(3, 6):\n",
    "print(x)\n",
    "# Prints out 3,5,7\n",
    "for x in range(3, 8, 2): # In this statement, the 3rd\n",
    "parameter is the increment given i.e. 2\n",
    "print(x)\n",
    "The output of the Program 2.5 is shown in figure 2.7:"
   ]
  },
  {
   "cell_type": "code",
   "execution_count": null,
   "metadata": {},
   "outputs": [],
   "source": [
    "Program 2.6: Write a program to display odd numbers by using for\n",
    "loop\n",
    "In this program, the values are checked in the if condition and if the number\n",
    "is even, then the continue statement will return the control back to the\n",
    "beginning of the loop and rejects all the remaining statements in the current\n",
    "iteration for the loop running.\n",
    "# Prints only odd numbers - 1,3,5,7,9\n",
    "for x in range(10):\n",
    "# Check if x is even\n",
    "if x % 2 == 0:\n",
    "continue\n",
    "print(x)\n",
    "The output of the Program 2.6 is shown in figure 2.8:"
   ]
  },
  {
   "cell_type": "code",
   "execution_count": null,
   "metadata": {},
   "outputs": [],
   "source": [
    "Program 2.7: Write a program by using for loop with arrays\n",
    "In this program, the list is declared. The len() function is used to find the\n",
    "length of the list.\n",
    "courses = ['c', 'c#', 'java']\n",
    "for index in range(len(courses)):print 'Current course:', courses[index]\n",
    "print \"Good bye!\"\n",
    "The output of the Program 2.7 is shown in figure 2.9:"
   ]
  },
  {
   "cell_type": "code",
   "execution_count": null,
   "metadata": {},
   "outputs": [],
   "source": [
    "Program 2.8: To find the factorial of a number by using for loop\n",
    "Save the file as: fact.py\n",
    "n = int(input(\"Enter the Number\"))\n",
    "fact = 1\n",
    "for i in range(1,n+1):\n",
    "fact = fact*i\n",
    "print(\"The factorial of a\",n,\"is\",fact)\n",
    "Here, the for loop will run from 1 to n+1 i.e. if n = 5, then loop will iterate\n",
    "from 1 to 6, but the upper bound value is neglected i.e. loop will execute\n",
    "up to 1 to 5 for n = 5.\n",
    "The Output of the Program 2.8 is shown in figure 2.10."
   ]
  },
  {
   "cell_type": "code",
   "execution_count": null,
   "metadata": {},
   "outputs": [],
   "source": [
    "Program 2.9: Program to find the sum of all numbers stored in a list by\n",
    "using for loop\n",
    "# List of numbers\n",
    "numbers = [6, 5, 3, 8, 4, 2, 5, 4, 11]\n",
    "# variable to store the sum\n",
    "sum = 0# iterate over the list\n",
    "for val in numbers:\n",
    "sum = sum+val\n",
    "# Output: The sum is 48\n",
    "print(\"The sum is\", sum)\n",
    "The output of the Program 2.9 is shown in figure 2.11:"
   ]
  },
  {
   "cell_type": "code",
   "execution_count": null,
   "metadata": {},
   "outputs": [],
   "source": [
    "Program 2.10: To find whether the number is prime or not\n",
    "Save the file as: prime.py\n",
    "n = int(input(\"Enter the Number to check\"))\n",
    "if n>1:\n",
    "for i in range(2,n):\n",
    "if (n % i) == 0:\n",
    "print(n,\"is not a prime number\")\n",
    "break\n",
    "else:\n",
    "print(n, \"is prime\")\n",
    "else:\n",
    "print(n,\"is not a prime number\")\n",
    "The output of the Program 2.10 is shown in figure 2.12."
   ]
  },
  {
   "cell_type": "code",
   "execution_count": null,
   "metadata": {},
   "outputs": [],
   "source": [
    "Break and Continue StatementThe break and continue statements both work in loop and can change the\n",
    "flow of a loop. The break statement immediately terminates the loop\n",
    "containing it and program will continue after the body of the loop whereas\n",
    "the continue doesn’t terminate the loop and skip the statements inside a loop\n",
    "for the running iteration and continues with the next iteration."
   ]
  },
  {
   "cell_type": "code",
   "execution_count": null,
   "metadata": {},
   "outputs": [],
   "source": [
    "The difference between break and continue statement:\n",
    "Break\n",
    "for i in “course”:\n",
    "if i == “r”:\n",
    "break\n",
    "Continue\n",
    "for i in “course” :\n",
    "if i == “r” :\n",
    "continue\n",
    "else: else:\n",
    "print (i) print(i)\n",
    "print(“Finish”) print(“Finish”)\n",
    "Output: Output:\n",
    "c o u Finish c o u s e Finish\n",
    "Note: In Break statement, if the condition is\n",
    "true, the break statement will terminate the loop,\n",
    "come out of the loop and execute the next\n",
    "statement. Note: In continue statement, if the condition is\n",
    "true, then continue statement will not print the\n",
    "current statement and return to the loop to iterate\n",
    "further."
   ]
  },
  {
   "cell_type": "code",
   "execution_count": null,
   "metadata": {},
   "outputs": [],
   "source": [
    "Program 2.11: Program to find prime numbers from 1 to 20 by using\n",
    "for loop\n",
    "for num in range(1,20): # to iterate between 1 to 20\n",
    "for i in range(2,num):\n",
    "if num%i == 0:\n",
    "j=num/i\n",
    "break\n",
    "else: # else part of the loop\n",
    "print num, 'is a prime number'\n",
    "The output of the Program 2.11 is shown in figure 2.13:"
   ]
  }
 ],
 "metadata": {
  "kernelspec": {
   "display_name": "Python 3",
   "language": "python",
   "name": "python3"
  },
  "language_info": {
   "codemirror_mode": {
    "name": "ipython",
    "version": 3
   },
   "file_extension": ".py",
   "mimetype": "text/x-python",
   "name": "python",
   "nbconvert_exporter": "python",
   "pygments_lexer": "ipython3",
   "version": "3.7.6"
  }
 },
 "nbformat": 4,
 "nbformat_minor": 4
}
