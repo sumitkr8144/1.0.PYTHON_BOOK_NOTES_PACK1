{
 "cells": [
  {
   "cell_type": "code",
   "execution_count": null,
   "metadata": {},
   "outputs": [],
   "source": [
    "C HAPTER 8\n",
    "Regular Expressions, Date, and Time\n",
    "The regular expressions are used to identify the patterns in a sequence of\n",
    "strings.\n",
    "Example 8.1:\n",
    "import re\n",
    "str = \"yes I said yes I will Yes.\"\n",
    "res = re.sub(\"[yY]es\",\"no\", str)\n",
    "print res\n",
    "Here, import re means to import the Regular expressions. In this example,\n",
    "substring function is used to replace \"yes with no\". The output of Example\n",
    "8.1 is shown in figure 8.1."
   ]
  },
  {
   "cell_type": "code",
   "execution_count": null,
   "metadata": {},
   "outputs": [],
   "source": [
    "Program 8.1: Write a program of Regular Expression to search string\n",
    "import re\n",
    "str = \"The destination is A!\"\n",
    "find = re.search(\"destination is .*(A|B|C|D)\",str)\n",
    "if find:\n",
    "print find.group()\n",
    "else:\n",
    "print \"Enable to search\"\n",
    "In Program 8.1, the search function is used and if str variable matches with\n",
    "the characters in the string sequence given i.e. *(A|B|C|D), the output will be\n",
    "“destination is A” else “Enable to search”. The output of the Program 8.1 is\n",
    "shown in figure 8.2."
   ]
  },
  {
   "cell_type": "code",
   "execution_count": null,
   "metadata": {},
   "outputs": [],
   "source": [
    "Program 8.2: Write a program to display time\n",
    "import time;\n",
    "localtime = time.asctime( time.localtime(time.time()) )\n",
    "print \"Local current time :\", localtime\n",
    "The output of the Program 8.2 is shown in figure 8.3:"
   ]
  },
  {
   "cell_type": "code",
   "execution_count": null,
   "metadata": {},
   "outputs": [],
   "source": [
    "Program 8.3: Write a program to display datetime by using now ()\n",
    "function\n",
    "import datetime\n",
    "print(datetime.datetime.now())\n",
    "The output of the Program 8.3 is shown in figure 8.4:"
   ]
  },
  {
   "cell_type": "code",
   "execution_count": null,
   "metadata": {},
   "outputs": [],
   "source": []
  }
 ],
 "metadata": {
  "kernelspec": {
   "display_name": "Python 3",
   "language": "python",
   "name": "python3"
  },
  "language_info": {
   "codemirror_mode": {
    "name": "ipython",
    "version": 3
   },
   "file_extension": ".py",
   "mimetype": "text/x-python",
   "name": "python",
   "nbconvert_exporter": "python",
   "pygments_lexer": "ipython3",
   "version": "3.7.6"
  }
 },
 "nbformat": 4,
 "nbformat_minor": 4
}
