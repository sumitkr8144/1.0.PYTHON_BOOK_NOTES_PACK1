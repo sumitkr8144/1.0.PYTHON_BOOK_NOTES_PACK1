{
 "cells": [
  {
   "cell_type": "code",
   "execution_count": null,
   "metadata": {},
   "outputs": [],
   "source": [
    "CHAPTER 7 RDBMS Concepts\n",
    "----------------------------------------------------------------------------------------------------------------\n",
    "Previous chapter discussed various tools offered by Python for data\n",
    "persistence. While the built-in file object can perform basic read/write\n",
    "operations with a disk file, other built-in modules such as pickle and shelve\n",
    "enable storage and retrieval of serialized data to/from disk files. We also\n",
    "explored Python libraries that handle well-known data storage formats like\n",
    "CSV, JSON, and XML."
   ]
  },
  {
   "cell_type": "code",
   "execution_count": null,
   "metadata": {},
   "outputs": [],
   "source": [
    "7.1 Drawbacks of Flat File\n",
    "However, files created using the above libraries are flat. They are hardly\n",
    "useful when it comes to real-time, random access and in-place updates in\n",
    "them. Also, files are largely unstructured. Although CSV files do have a\n",
    "field header, the comma-delimited nature of data makes it very difficult to\n",
    "modify the contents of a certain field in a particular row. The only alternative\n",
    "remains, is to read the file in a Python object such as a dictionary,\n",
    "manipulate its contents and rewrite it after truncating the file.This approach\n",
    "is not feasible especially for large files as it may become time-consuming\n",
    "and cumbersome.\n"
   ]
  },
  {
   "cell_type": "code",
   "execution_count": null,
   "metadata": {},
   "outputs": [],
   "source": [
    "Even if we keep this issue of in-place modification of file aside for a while,\n",
    "there is another problem of providing concurrent r/w access to multiple\n",
    "applications. This may be required in the client-server environment. None of\n",
    "the persistence libraries of Python have built-in support to asynchronous\n",
    "handling of files. If required, we have to rely upon locking features of the\n",
    "operating system itself."
   ]
  },
  {
   "cell_type": "code",
   "execution_count": null,
   "metadata": {},
   "outputs": [],
   "source": [
    "Another problem that may arise is that of data redundancy and inconsistency.\n",
    "This arises primarily out of the unstructured nature of data files. The term\n",
    "‘redundancy’ refers to the repetition of same data more than one times\n",
    "while describing the collection of records in a file. The first row of a typical\n",
    "CSV file defines the column headings, often called as fields and subsequent\n",
    "rows are records."
   ]
  },
  {
   "cell_type": "code",
   "execution_count": null,
   "metadata": {},
   "outputs": [],
   "source": [
    "Following table 7.1 shows a ‘pricelist.csv’ represented in the form of a table.\n",
    "Popular wordprocessors (MS Word, OpenOffice Writer) and spreadsheet\n",
    "programs (MS Excel, OpenOffice Calc) have this feature of converting text\n",
    "delimited by comma or any other character to a table.\n",
    "Table 7.1 Pricelist.csv\n",
    "InvNo CustomerName Product Price\n",
    "Quantity\n",
    "total\n",
    "1 Ravikumar Laptop 25000 2 50000\n",
    "2 John TV 40000 1 40000\n",
    "3 Divya Laptop 25000 1 25000\n",
    "4 Divya Mobile 15000 3 45000\n",
    "5 John Mobile 15000 2 30000\n",
    "6 Ravikumar TV 40000 1 40000"
   ]
  },
  {
   "cell_type": "code",
   "execution_count": null,
   "metadata": {},
   "outputs": [],
   "source": [
    "As we can see, data items such as customer’s name, product’s name, and\n",
    "price are appearing repeatedly in the rows. This can lead to two issues: One,\n",
    "a manual error such as spelling or maintaining correct upper/lower case can\n",
    "creep up. Secondly, change in the value of a certain data item needs to reflect\n",
    "at its all occurrences, failing which it may lead to a discrepancy. For\n",
    "example, if the price of TV goes up to 45000, price and total columns in\n",
    "invoice numbers 2 and 6 should be updated. Otherwise, there will be\n",
    "inconsistency in further processing of data. These problems can be overcome\n",
    "by using a relational database."
   ]
  },
  {
   "cell_type": "code",
   "execution_count": null,
   "metadata": {},
   "outputs": [],
   "source": [
    "7.2 Relational Database\n",
    "The term ‘database’ refers to an organized collection of data so as to\n",
    "remove redundancy and inconsistency, and to ensure data integrity. Over the\n",
    "years, different database models have been in use. Early days of computing\n",
    "observed the use of hierarchical and network database models. Soon, they\n",
    "were replaced by the relational database model, which is still used very\n",
    "predominantly. Last 10-15 years have seen emergence of NOSQL databases\n",
    "like MongoDB and Cassandra."
   ]
  },
  {
   "cell_type": "code",
   "execution_count": null,
   "metadata": {},
   "outputs": [],
   "source": [
    "The relational database model, proposed by Edgar Codd in 1970, aims to\n",
    "arrange data according to the entities. Each entity is represented by a table\n",
    "(called relation). You can think of the entity as a class. Just as a class, an\n",
    "entity is characterized by attributes (also called fields, in the database\n",
    "terminology) that form columns of the table. Each instance of the entity is\n",
    "described in subsequent rows, below the heading row. The entity table\n",
    "structure provides one attribute whose value is unique for each row. Such an\n",
    "attribute is called ‘primary key’.\n",
    "If we analyze the pricelist example above, it involves three entities,\n",
    "Customers, Products, and Invoices. We have prepared three tables\n",
    "representing them, as follows: (Figure 7.1)"
   ]
  },
  {
   "cell_type": "code",
   "execution_count": null,
   "metadata": {},
   "outputs": [],
   "source": [
    "The important aspect of relational database design is to establish a\n",
    "relationship between tables. In the three tables above, the attributes\n",
    "‘prodID’, ‘CustID’, and ‘InvNo’ are primary keys in products, customers\n",
    "and invoices tables respectively.\n",
    "Further, structure of the ‘invoices’ table uses ‘CustID’ and ‘ProductID’\n",
    "attributes which are the primary keys of other two tables. When primary key\n",
    "of one table appears in the structure of other tables, it is called ‘Foreign key’\n",
    "and this forms the basis of the relationship between the two.\n"
   ]
  },
  {
   "cell_type": "code",
   "execution_count": null,
   "metadata": {},
   "outputs": [],
   "source": [
    "This approach of database design has two distinct advantages. Firstly, using\n",
    "the relationship between primary and foreign key, details of the\n",
    "corresponding row can be fetched without repetition. For example,\n",
    "‘invoices’ table has ‘ProdID’ foreign key which is the primary key in the\n",
    "‘Products’ table, hence the ‘name’ and ‘price’ attributes can be fetched usingthis relationship. The same is true about ‘CustID’ which appears as the\n",
    "foreign key in ‘invoices’ and is the primary key in the ‘customers’ table. We\n",
    "can thus reconstruct the original pricelist table by using relationships."
   ]
  },
  {
   "cell_type": "code",
   "execution_count": null,
   "metadata": {},
   "outputs": [],
   "source": []
  },
  {
   "cell_type": "code",
   "execution_count": null,
   "metadata": {},
   "outputs": [],
   "source": [
    "Secondly, you need not make any changes in the ‘invoices’ table, if either\n",
    "name of product or price changes, change in ‘Products’ table will\n",
    "automatically reflect in all rows of invoices table because of the primary-\n",
    "foreign key relationship. Also, the database engine won’t allow deleting a\n",
    "certain row in customers or products table, if its primary key is being used as\n",
    "foreign keys in the invoices table. This ensures data integrity.\n",
    "Software products based on this relational model are popularly called as\n",
    "Relational DataBase Systems (RDBMS). Some of the renowned RDBMS\n",
    "brands are Oracle, MySQL, MS SQL Server, Postgre SQL, DB2, SQLite,\n",
    "etc."
   ]
  },
  {
   "cell_type": "code",
   "execution_count": null,
   "metadata": {},
   "outputs": [],
   "source": [
    "7.3 RDBMS ProductsRelational Software Inc. (now Oracle Corp) developed its first SQL based\n",
    "RDBMS software called Oracle V2. IBM introduced System-R as its\n",
    "RDBMS product in 1974 and followed it by a very successful DB2 product.\n",
    "Microsoft released SQL Server for Windows NT in 1994. Newer versions\n",
    "of MS SQL server are integrated with Microsoft’s .NET Framework.\n",
    "SAP is an enterprise-level RDBMS product targeted towards UNIX based\n",
    "systems being marketed as Enterprise Resource Planning (ERP) product.\n",
    "An open-source RDBMS product named as MySQL, developed by a\n",
    "Swedish company MySQL AB, was later acquired by Sun Microsystems,\n",
    "which in turn has, now, been acquired by Oracle Corporation. Being an\n",
    "open-source product, MySQL is a highly popular choice, after Oracle.\n",
    "MS Access, shipped with Microsoft Office suite, is widely used in small-\n",
    "scale projects. The entire database is stored in a single file and, hence, is\n",
    "easily portable. It provides excellent GUI tools to design tables, queries,\n",
    "forms, and reports.\n"
   ]
  },
  {
   "cell_type": "code",
   "execution_count": null,
   "metadata": {},
   "outputs": [],
   "source": [
    "PostgreSQL is also an open-source object-oriented RDBMS, which has\n",
    "evolved from the Ingres project of the University of California, Berkley. It is\n",
    "available for use on diverse operating system platforms and SQL\n",
    "implementation is supposed to be closest to SQL standard.\n",
    "SQLite is a very popular relational database used in a wide variety of\n",
    "applications. Unlike other databases like Oracle, MySQL, etc., SQLite is a\n",
    "transactional SQL database engine that is self-contained and serverless. As\n",
    "its official documentation describes, it is a self-contained, serverless, zero-\n",
    "configuration, transactional SQL database engine.The entire database is a\n",
    "single file that can be placed anywhere in the file system.\n"
   ]
  },
  {
   "cell_type": "code",
   "execution_count": null,
   "metadata": {},
   "outputs": [],
   "source": [
    "SQLite was developed by D. Richard Hipp in 2000. Its current version is\n",
    "3.27.2. It is fully ACID compliant which ensures that transactions are\n",
    "atomic, consistent, isolated, and durable.\n",
    "Because of its open-source nature, very small footprint, and zero\n",
    "configuration, SQLite databases are popularly used in embedded devices,\n",
    "IOT and mobile apps. Many web browsers and operating systems also use\n",
    "SQLite database for internal use. It is also used as a prototyping and demo of\n",
    "larger enterprise RDBMS.\n",
    "Despite being very lightweight, it is a full-featured SQL implementation\n",
    "with all the advanced capabilities. SQLite database can be interfaced withmost of the mainstream languages like C/C++, Java, PHP, etc. Python’s\n",
    "standard library contains the sqlite3 module. It provides all the functionality\n",
    "for interfacing Python program with the SQLite database."
   ]
  },
  {
   "cell_type": "code",
   "execution_count": null,
   "metadata": {},
   "outputs": [],
   "source": [
    "7.4 SQLite Installation\n",
    "Installation of SQLite is simple and straightforward. It doesn’t need any\n",
    "elaborate installation. The entire application is a self-contained executable\n",
    "‘sqlite3.exe’. Official website of SQLite, (https://sqlite.org/download.html)\n",
    "provides pre-compiled binaries for various operating system platforms\n",
    "containing the command line shell bundled with other utilities. All you have\n",
    "to do is download a zip archive of SQLite command-line tools, unzip to a\n",
    "suitable location and invoke sqlite3.exe from DOS prompt by putting name\n",
    "of the database you want to open.\n",
    "If already existing, the SqLite3 database engine will connect to it; otherwise,\n",
    "a new database will be created. If the name is omitted, an in-memory\n",
    "transient database will open. Let us ask SQLite to open a new\n",
    "mydatabase.sqlite3."
   ]
  },
  {
   "cell_type": "code",
   "execution_count": null,
   "metadata": {},
   "outputs": [],
   "source": [
    "In the command window a sqlite prompt appears before which any SQL\n",
    "query can be executed. In addition, there “dot commands” (beginning with a\n",
    "dot “.”) typically used to change the output format of queries, or to execute\n",
    "certain prepackaged query statements.\n",
    "An existing database can also be opened using .open command.The first step is to create a table in the database. As mentioned above, we\n",
    "need to define its structure specifying name of the column and its data type."
   ]
  },
  {
   "cell_type": "code",
   "execution_count": null,
   "metadata": {},
   "outputs": [],
   "source": [
    "7.5 SQLite Data Types\n",
    "ANSI SQL defines generic data types, which are implemented by various\n",
    "RDBMS products with a few variations on their own. Most of the SQL\n",
    "database engines (Oracle, MySQL, SQL Server, etc.) use static typing.\n",
    "SQLite, on the other hand, uses a more general dynamic type system. Each\n",
    "value stored inSQLite database (or manipulated by the database engine) has\n",
    "one of the following storage classes:\n",
    "NULL\n",
    "INTEGER\n",
    "REAL\n",
    "TEXT\n",
    "BLOB\n"
   ]
  },
  {
   "cell_type": "code",
   "execution_count": null,
   "metadata": {},
   "outputs": [],
   "source": [
    "A storage class is more general than a datatype. These storage classes are\n",
    "mapped to standard SQL data types. For example, INTEGER in SQLite has\n",
    "a type affinity with all integer types such as int, smallint, bigint, tinyint,\n",
    "etc. Similarly REAL in SQLite has a type affinity with float and double data\n",
    "type. Standard SQL data types such as varchar, char,nchar, etc. are\n",
    "equivalent to TEXT in SQLite.\n",
    "SQL as a language consists of many declarative statements that perform\n",
    "various operations on databases and tables. These statements are popularly\n",
    "called queries. CREATE TABLE query defines table structure using the\n",
    "above data types."
   ]
  },
  {
   "cell_type": "code",
   "execution_count": null,
   "metadata": {},
   "outputs": [],
   "source": [
    "7.6 CREATE TABLE\n",
    "This statement is used to create a new table, specifying following details:\n",
    "Name of new table\n",
    "Names of columns (fields) in the desired table\n",
    "Type, width, and the default value of each column.\n",
    "Optional constraints on columns (PRIMARY KEY, NOT NULL,\n",
    "FOREIGN KEY)"
   ]
  },
  {
   "cell_type": "code",
   "execution_count": null,
   "metadata": {},
   "outputs": [],
   "source": [
    "Example 7.1\n",
    "CREATE TABLE table_name (\n",
    "column1 datatype [width] [default] [constraint],\n",
    "column2 ....,\n",
    "column3 ...,\n",
    "....\n",
    ");"
   ]
  },
  {
   "cell_type": "code",
   "execution_count": null,
   "metadata": {},
   "outputs": [],
   "source": [
    "7.7 Constraints\n",
    "Constraints enforce restrictions on data that a column can contain. They help\n",
    "in maintaining the integrity and reliability of data in the table. Following\n",
    "clauses are used in the definition of one or more columns of a table to\n",
    "enforce constraints:\n",
    "PRIMARY KEY: Only one column in a table can be defined to be a\n",
    "primary key. The value of this table will uniquely identify each row (a\n",
    "record) in the table. The primary key can be set to AUTOINCREMENT if its\n",
    "type is INTEGER. In that case, its value need not be manually filled.\n"
   ]
  },
  {
   "cell_type": "code",
   "execution_count": null,
   "metadata": {},
   "outputs": [],
   "source": [
    "NOT NULL: By default value for any column in a row can be left as null.\n",
    "NOT NULL constraint ensures that while filling a new row in the table or\n",
    "updating an existing row, the contents of specified columns are not allowed\n",
    "to be null. In the above definition, to ensure that the ‘name’ column must\n",
    "have a certain value, NOT NULL constraint is applied to it.\n",
    "FOREIGN KEY: This constraint is used to enforce ‘exists’ relationship\n",
    "between two tables.\n"
   ]
  },
  {
   "cell_type": "code",
   "execution_count": null,
   "metadata": {},
   "outputs": [],
   "source": [
    "Let us create a Products table in ‘mydatabase’ that we created above. As\n",
    "shown in the Figure 7.1, diagram, the ‘products’ table consists of ProductID,\n",
    "Name, and Price columns, with ProductID as its primary key.\n",
    "(Ensure that the SQL statement ends with a semi-colon. You may span one\n",
    "statement over multiple lines in the console)\n",
    "We also create another ‘Customers’ table in the same database with CustID\n",
    "and Name fields. CustID field should be defined as the primary key."
   ]
  },
  {
   "cell_type": "code",
   "execution_count": null,
   "metadata": {},
   "outputs": [],
   "source": [
    "Finally, we create another ‘Invoices’ table. As shown in the Figure 7.1\n",
    "diagram, this table has InvID as primary key and two foreign key columns\n",
    "referring to ProductID in ‘Products’ table and CustID in ‘Customers’ table.\n",
    "The ‘Invoices’ table also contains the ‘price’ column."
   ]
  },
  {
   "cell_type": "code",
   "execution_count": null,
   "metadata": {},
   "outputs": [],
   "source": [
    "To confirm that our tables have been successfully created, use .tables\n",
    "command:\n",
    "SQLite stores schema of all databases in the SQLITE_MASTER table. We\n",
    "can fetch names of our databases and tables with following command:To terminate current session of SQLite3\n",
    "activity use .quit command."
   ]
  },
  {
   "cell_type": "code",
   "execution_count": null,
   "metadata": {},
   "outputs": [],
   "source": [
    "7.8 INSERT Statement\n",
    "Now that we have created tables in our database, let us add few records in\n",
    "them. SQL provides an INSERT statement for the purpose. Itsstandard\n",
    "syntax is as follows:\n",
    "Example 7.2\n",
    "INSERT INTO tablename (col1, col2, ...) VALUES (val1, val2, val3,\n",
    "...);\n",
    "Name of the table in which a new record (row) is to be added, follows\n",
    "mandatory keywords INSERT INTO. The column list is given after the name\n",
    "in parentheses, which is followed by the VALUES clause. The data\n",
    "corresponding to each column is given in another set of parentheses.\n",
    "Following statement adds one record in Products table:\n",
    "We insert a row in ‘Customers’ table by executing the following statement in\n",
    "SQLite console:"
   ]
  },
  {
   "cell_type": "code",
   "execution_count": null,
   "metadata": {},
   "outputs": [],
   "source": [
    "Similarly, the following statement adds a record in ‘Invoices’ table:\n",
    "Note that, in the above INSERT statements, we have not included\n",
    "ProductID, CustID, and InvID columns in respective column lists\n",
    "parentheses because they have been defined as autoincrement fields. Thecolumn list may be omitted altogether if you intend to provide values for all\n",
    "columns in the table (excluding autoincrement fields). They must be given in\n",
    "the VALUES list exactly in the same order in which their fields have been\n",
    "defined."
   ]
  },
  {
   "cell_type": "code",
   "execution_count": null,
   "metadata": {},
   "outputs": [],
   "source": [
    "You may add a few more records in these three tables. Sample data for these\n",
    "tables is given below: (table 7.3, table 7.4, and table 7.5)\n",
    "Table 7.3 ProductsTable\n",
    "ProductID Name Price\n",
    "1 Laptop 25000\n",
    "2 TV 40000\n",
    "3 Router 2000\n",
    "4 Scanner 5000\n",
    "5 Printer 9000\n",
    "6 Mobile 15000"
   ]
  },
  {
   "cell_type": "code",
   "execution_count": null,
   "metadata": {},
   "outputs": [],
   "source": [
    "Table 7.4 Customers Table:\n",
    "CustID Name GSTIN\n",
    "1 Ravikumar 27AAJPL7103N1ZF\n",
    "2 Patel 24ASDFG1234N1ZN\n",
    "3 Nitin 27AABBC7895N1ZT\n",
    "4 Nair 32MMAF8963N1ZK\n",
    "5 Shah 24BADEF2002N1ZB\n",
    "6 Khurana 07KABCS1002N1ZV\n",
    "7 Irfan 05IIAAV5103N1ZA\n",
    "8 Kiran 12PPSDF22431ZC\n",
    "9 Divya 15ABCDE1101N1ZA10\n",
    "John\n",
    "29AAEEC4258E1ZK"
   ]
  },
  {
   "cell_type": "code",
   "execution_count": null,
   "metadata": {},
   "outputs": [],
   "source": [
    "Table 7.5 Invoices Table\n",
    "InvID CustID ProductID Quantity\n",
    "1 1 1 2\n",
    "2 10 2 1\n",
    "3 9 6 3\n",
    "4 4 1 6\n",
    "5 10 5 3\n",
    "6 2 2 5\n",
    "7 2 1 4\n",
    "8 5 3 10\n",
    "9 7 5 2\n",
    "10 3 4 3"
   ]
  },
  {
   "cell_type": "code",
   "execution_count": null,
   "metadata": {},
   "outputs": [],
   "source": [
    "7.9 SELECT Statement\n",
    "This is one of the most frequently used SQL statements. The purpose of\n",
    "SELECT statement is to fetch data from a database table and return in the\n",
    "form of a result set. In its simplest form SELECT statement is used as\n",
    "follows:\n",
    "Example 7.3\n",
    "SELECT col1, col2, .., coln FROM table_name;\n",
    "SQLite console displays data from the named table for all rows in specified\n",
    "columns. SQLite console offers two useful ‘dot’ commands for a neat and\n",
    "formatted output of the SELECT statement. The ‘.header on’ command will\n",
    "display the column names as the header of output. The ‘.mode column’\n",
    "command will force left alignment of data in columns."
   ]
  },
  {
   "cell_type": "code",
   "execution_count": null,
   "metadata": {},
   "outputs": [],
   "source": [
    "You can use ‘*’ wild card character to indicate all columns in the table.\n",
    "The ORDER BY clause lists selected rows according to ascending order of\n",
    "data in specified column. Following statement displays records in the\n",
    "Products table in ascending order of price."
   ]
  },
  {
   "cell_type": "code",
   "execution_count": null,
   "metadata": {},
   "outputs": [],
   "source": [
    "To enforce descending order, attach ‘DESC’ to the ORDER BY clause.\n",
    "You can apply filter on selection of rows by using the WHERE clause. The\n",
    "WHERE keyword is followed by a logical condition having logical operators\n",
    "(<, >, <=, >=, =, IN, LIKE, etc.). In the following example, only those rows\n",
    "will be selected for which value of the ‘price’ column is less than 10000."
   ]
  },
  {
   "cell_type": "code",
   "execution_count": null,
   "metadata": {},
   "outputs": [],
   "source": [
    "A big advantage of the relational model comes through when data from two\n",
    "related tables can be fetched. In our ‘Invoices’ table, we have ProductID asone of the columns that is a primary key of the ‘Products’ table. The\n",
    "following example uses WHERE clause to join two tables - Invoices and\n",
    "Products - and fetch data from them in a single SELECT statement."
   ]
  },
  {
   "cell_type": "code",
   "execution_count": null,
   "metadata": {},
   "outputs": [],
   "source": [
    "It is also possible to generate a calculated column depending on some\n",
    "operation on other columns. Any column heading can also be given an alias\n",
    "name using AS keyword.\n",
    "Following SELECT statement displays Total column which is\n",
    "Products.Price*Quantity. The column shows values of this expression is\n",
    "named AS Total."
   ]
  },
  {
   "cell_type": "code",
   "execution_count": null,
   "metadata": {},
   "outputs": [],
   "source": [
    "7.10 UPDATE Statement\n",
    "It is possible to modify data of a certain field in given table using the\n",
    "UPDATE statement. The usage syntax of the UPDATE query is as follows:\n",
    "Example 7.4\n",
    "UPDATE table_name SET col1=val1, col2=val2,.., colN=valN WHERE\n",
    "[expression];\n",
    "Note that,the WHERE clause is not mandatory when executing the UPDATE\n",
    "statement. However, you would normally want to modify only those records\n",
    "satisfying a certain condition. If the WHERE clause is not specified, all\n",
    "records will be modified.\n",
    "For example, the following statement changes the price of ‘Printer’ to\n",
    "10000.However, if you want to increase the price of each product by 10 percent,\n",
    "you don’t have to specify the WHERE clause."
   ]
  },
  {
   "cell_type": "code",
   "execution_count": null,
   "metadata": {},
   "outputs": [],
   "source": [
    "7.11 DELETE Statement\n",
    "If you need to remove one or more records from a certain table, use the\n",
    "DELETE statement. General syntax of DELETE query is as under:\n",
    "Example 7.5\n",
    "DELETE FROM table_name WHERE [condition];In most circumstances, the WHERE clause should be specified unless you\n",
    "intend to remove all records from the table. The following statement will\n",
    "remove those records from the Invoices table having Quantity>5."
   ]
  },
  {
   "cell_type": "code",
   "execution_count": null,
   "metadata": {},
   "outputs": [],
   "source": [
    "7.12. ALTER TABLE statement\n",
    "On many occasions, you may want to make changes in a table’s structure.\n",
    "This can be done by the ALTER TABLE statement. It is possible to change\n",
    "the name of a table or a column, or add a new column in the table.\n",
    "Following statement adds a new column in ‘Customers’ table:"
   ]
  },
  {
   "cell_type": "code",
   "execution_count": null,
   "metadata": {},
   "outputs": [],
   "source": [
    "7.13 DROP TABLE StatementThis statement will remove the specified table from the database. If you try\n",
    "to drop a non-existing table, the SQLite engine shows an error.\n",
    "When ‘IF EXISTS’ option is used, the named table will be deleted only if\n",
    "exists and the statement will be ignored if it doesn’t exist."
   ]
  },
  {
   "cell_type": "code",
   "execution_count": null,
   "metadata": {},
   "outputs": [],
   "source": [
    "7.14 Transaction Control\n",
    "As mentioned above, SQLite is a transactional database and all transactions\n",
    "are ACID compliant. ACID stands for Atomic, Consistent, Isolated and\n",
    "Durable. As a result, it ensures that the SQLite database doesn’t lose\n",
    "integrity, even if transaction such as INSERT, DELETE, or UPDATE, is\n",
    "interrupted because of any reason whatsoever.\n",
    "A transaction is the propagation of changes to the database. The operation\n",
    "performed by INSERT, UPDATE or DELETE statement results in a\n",
    "transaction.\n",
    "Atomicity: When we say that a transaction should be atomic, it means that a\n",
    "change cannot be effected in parts. Either the entire transaction is applied or\n",
    "not applied.\n",
    "Consistency: After any transaction is completed, the database should hold\n",
    "on to the changes in its state.\n",
    "Isolation: It must be ensured that the transaction such as INSERT,\n",
    "UPDATE, or DELETE, performed by a client should only be visible to other\n",
    "clients after successful completion.\n",
    "Durability: Result of successfully committed transactions must be\n",
    "permanent in the database regardless of the condition such as power failure\n",
    "or program crash.\n",
    "SQLite provides two statements for transaction control. They are COMMIT\n",
    "and ROLLBACK. All CRUD (CREATE, RETRIEVE, UPDATE and\n",
    "DELETE) operations first take effect in memory and then they arepermanently saved (committed) to the disk file. SQLite transactions are\n",
    "automatically committed without giving any chance to undo (rollback) the\n",
    "changes.\n"
   ]
  },
  {
   "cell_type": "code",
   "execution_count": null,
   "metadata": {},
   "outputs": [],
   "source": [
    "To control the commitment and rolling back manually, start transactions after\n",
    "issuing the directive BEGIN TRANSACTION. Whatever operations done\n",
    "thereafter will not be confirmed,until COMMIT is issued and will be\n",
    "annulled if ROLLBACK is issued."
   ]
  },
  {
   "cell_type": "code",
   "execution_count": null,
   "metadata": {},
   "outputs": [],
   "source": [
    "In the above example, the price of ‘Router’ is initially 2200. It was changed\n",
    "to 2000 but rolled back. Hence its earlier value is restored. Followingexample shows effect of commit statement where the effect of UPDATE\n",
    "statement is confirmed."
   ]
  },
  {
   "cell_type": "code",
   "execution_count": null,
   "metadata": {},
   "outputs": [],
   "source": [
    "7.15 MySQL\n",
    "So far we have learned how some basic SQL operations are performed over\n",
    "a relational database using SQLite console. Similar console driven\n",
    "interaction is possible with other RDBMS products. MySQL console works\n",
    "more or less similar (barring certain syntactical differences) to the SQLite\n",
    "console we’ve used in this chapter. Following piece of code shows a sample\n",
    "MySQL console session:MS SQL Server also has a console based frontend called SQLCMD which\n",
    "also works similarly. Command-line interface of Oracle is called SQL*Plus.As far as PostgreSQL is concerned, its primary command-line interface is\n",
    "psql program.\n",
    "All the RDBMS products also provide GUI based environments to perform\n",
    "various SQL related operations instead of command-line actions. Oracle’s\n",
    "SQL Developer, Microsoft’s SQL Server management studio, pgAdmin\n",
    "for PostgreSQL, and Workbench for MySQL are respective examples. SQL\n",
    "server client is integrated with Visual Studio which helps the user to perform\n",
    "database operations graphically. MySQL module is shipped with various\n",
    "web server software bundles (for example, LAMP, XAMPP, etc.), providing\n",
    "a web-based interface called PhpMyAdmin. (Figure 7.2)"
   ]
  },
  {
   "cell_type": "code",
   "execution_count": null,
   "metadata": {},
   "outputs": [],
   "source": [
    "Although SQLite doesn’t provide its own GUI tool for database\n",
    "management, many third-party tools are available. One such utility is\n",
    "SQLiteStudio that is very popularly used."
   ]
  },
  {
   "cell_type": "code",
   "execution_count": null,
   "metadata": {},
   "outputs": [],
   "source": [
    "7.16 SQLiteStudio\n",
    "SQLiteStudio is an open-source software from https://sqlitestudio.pl. It is\n",
    "portable, which means it can be directly run without having to install. It is\n",
    "powerful, fast and yet very light. You can perform CRUD operations on a\n",
    "database using GUI as well as by writing SQL queries.Download and unpack zip archive of the latest version for Windows from\n",
    "the downloads page. Run SQLiteStudio.exe to launch the SqliteStudio. It’s\n",
    "opening GUI appears as follows: (Figure 7.3)\n",
    "Figure 7.3 SQLiteStudio GUI\n"
   ]
  },
  {
   "cell_type": "code",
   "execution_count": null,
   "metadata": {},
   "outputs": [],
   "source": [
    "Currently attached databases appear as expandable nodes in the left column.\n",
    "Click any one to select and the ‘Tables’ sub-node shows tables in the\n",
    "selected database. On the right, there is a tabbed pane. The first active tab\n",
    "shows structure of the selected table and the second tab shows its data. The\n",
    "structure, as well as data, can be modified. Right-click on the Tables sub\n",
    "node on the left or use the Structure menu to add a new table. User-friendly\n",
    "buttons are provided in the Structure tab and data tab to insert/modify\n",
    "column/row, commit or rollback transactions.\n",
    "This concludes the current chapter on RDBMS concepts with a focus on the\n",
    "SQLite database. As mentioned in the beginning, this is not a complete\n",
    "tutorial on SQLite but a quick hands-on experience of interacting with\n",
    "SQLite database to understand Python’s interaction with databases with DB-\n",
    "API that is the subject of next chapter."
   ]
  }
 ],
 "metadata": {
  "kernelspec": {
   "display_name": "Python 3",
   "language": "python",
   "name": "python3"
  },
  "language_info": {
   "codemirror_mode": {
    "name": "ipython",
    "version": 3
   },
   "file_extension": ".py",
   "mimetype": "text/x-python",
   "name": "python",
   "nbconvert_exporter": "python",
   "pygments_lexer": "ipython3",
   "version": "3.7.6"
  }
 },
 "nbformat": 4,
 "nbformat_minor": 4
}
