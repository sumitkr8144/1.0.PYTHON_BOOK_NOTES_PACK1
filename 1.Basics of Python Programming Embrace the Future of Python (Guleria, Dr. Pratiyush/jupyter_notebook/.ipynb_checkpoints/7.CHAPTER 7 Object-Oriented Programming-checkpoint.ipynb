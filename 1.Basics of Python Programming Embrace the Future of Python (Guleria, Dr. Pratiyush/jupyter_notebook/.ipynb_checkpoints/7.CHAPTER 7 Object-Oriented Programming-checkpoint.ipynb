{
 "cells": [
  {
   "cell_type": "code",
   "execution_count": null,
   "metadata": {},
   "outputs": [],
   "source": [
    "CHAPTER 7\n",
    "Object-Oriented Programming"
   ]
  },
  {
   "cell_type": "code",
   "execution_count": null,
   "metadata": {},
   "outputs": [],
   "source": [
    "Classes and Objects\n",
    "Python has built-in\n",
    "___init___ () is:\n",
    "__init__\n",
    "()\n",
    "function in classes. The function\n",
    "used to initialize, assign values\n",
    "executed when the class is being initiated.\n",
    "used to assign values to object properties or perform operations, when\n",
    "the object is created."
   ]
  },
  {
   "cell_type": "code",
   "execution_count": null,
   "metadata": {},
   "outputs": [],
   "source": [
    "Program 7.1: Write a program for classes and objects\n",
    "class OurClass:\n",
    "def __init__(self, a):\n",
    "self.OurAtt = a\n",
    "x = OurClass(10)\n",
    "print(x.OurAtt)\n",
    "The output of the Program 7.1 is shown in figure 7.1:\n",
    "Figure 7.1: Output of the Program 7.1\n",
    "Note: The self-parameter is used as a first parameter of the function in the\n",
    "class. It acts as a reference to the class itself and is used to access a\n",
    "variable that belongs to the class."
   ]
  },
  {
   "cell_type": "code",
   "execution_count": null,
   "metadata": {},
   "outputs": [],
   "source": [
    "Example 7.1:\n",
    "In this program, Employee is the classname. The name of the function\n",
    "defined is “ displayCount() ” and “ displayEmployee() ”.class Employee:\n",
    "'Base class'\n",
    "empCount = 0\n",
    "def __init__(self, name, salary):\n",
    "self.name = name\n",
    "self.salary = salary\n",
    "Employee.empCount += 1\n",
    "# can also be written as Employee.empCount = Employee.empCount\n",
    "+ 1\n",
    "def displayEmployee(self): # function is defined here\n",
    "print \"Name : \", self.name, \", Salary: \", self.salary\n",
    "# \"emp1 is the first object of Employee class\"\n",
    "emp1 = Employee(\"Akhil\", 2000)\n",
    "# \"emp2 is the second object of Employee class\"\n",
    "emp2 = Employee(\"Suresh\", 5000)\n",
    "emp1.displayEmployee()\n",
    "emp2.displayEmployee()\n",
    "print \"Total Employee %d\" % Employee.empCount\n",
    "The output of the Example 7.1 is shown in figure 7.2:"
   ]
  },
  {
   "cell_type": "code",
   "execution_count": null,
   "metadata": {},
   "outputs": [],
   "source": [
    "Program 7.2: Write a program for inheritance\n",
    "In this program, class Course is the base class and the class detail is the\n",
    "inherited class inheriting the properties of the base class.\n",
    "class Course:\n",
    "def __init__(self, course, duration):\n",
    "self.cname = course\n",
    "self.cduration = duration\n",
    "def Name(self):\n",
    "return self.cname + \" \" + self.cduration\n",
    "class detail(Course):def __init__(self, course, duration, fees):\n",
    "Course.__init__(self,course, duration)\n",
    "self.cfees = fees\n",
    "def GetDetail(self):\n",
    "return self.Name() + \", \" + self.cfees\n",
    "x = Course(\"C++\", \"4 weeks\")\n",
    "y = detail(\"PHP\", \"4 weeks\", \"4000\")\n",
    "print(x.Name())\n",
    "print(y.GetDetail())\n",
    "The output of the Program 7.2 is shown in figure 7.3:"
   ]
  },
  {
   "cell_type": "code",
   "execution_count": null,
   "metadata": {},
   "outputs": [],
   "source": [
    "Overriding\n",
    "Override means having two methods with the same name but doing\n",
    "different tasks. It means that one of the methods overrides the other.\n",
    "If there is any method in the superclass and a method with the same\n",
    "name is in a subclass, then by executing the method, the method of the\n",
    "corresponding class will be executed.\n",
    "Since the method from the corresponding class came into action, it\n",
    "means that one override the other."
   ]
  },
  {
   "cell_type": "code",
   "execution_count": null,
   "metadata": {},
   "outputs": [],
   "source": [
    "Example 7.2:\n",
    "class course():\n",
    "def __init__(self,duration,fees):\n",
    "self.duration = duration\n",
    "self.fees = fees\n",
    "def getTotal(self):\n",
    "print self.duration,\"is the duration and\",self.fees,\"is the\n",
    "fees of course\"\n",
    "class fees(course):\n",
    "def __init__(self,name):\n",
    "self.name = namedef getTotal(self):\n",
    "print self.name,\" is the name of course\"\n",
    "f = fees(\"java\")\n",
    "c = course(\"4 weeks\",4000)\n",
    "f.getTotal()\n",
    "c.getTotal()"
   ]
  },
  {
   "cell_type": "code",
   "execution_count": null,
   "metadata": {},
   "outputs": [],
   "source": [
    "In the above example, the execution of ‘getTotal ()' function on the object of\n",
    "course class object i.e. (c) will print \"4 weeks is the duration and 4000 is the\n",
    "fees of course\" from the ' getTotal() ' defined in the course class whereas,\n",
    "execution of ' getTotal() ' function on the object of fees class i.e.(f) will\n",
    "print \"java is the name of course\" from the ' getTotal() ' defined in the fees\n",
    "class.\n",
    "The output of the Example 7.2 is shown in figure 7.4:"
   ]
  },
  {
   "cell_type": "code",
   "execution_count": null,
   "metadata": {},
   "outputs": [],
   "source": [
    "Example 7.3:\n",
    "class course():\n",
    "def __init__(self):\n",
    "self.value = 5000\n",
    "def getdata(self):\n",
    "print self.value, \"is the fees of course\"\n",
    "class fees(course):\n",
    "# getdata() function is defined here\n",
    "def getdata(self):\n",
    "self.value += 2000\n",
    "print self.value, \"is the increased fees of course\"\n",
    "# c is the object of the fees class\n",
    "c = fees()\n",
    "# getdata() is the function called by the c object\n",
    "c.getdata()The output of Example 7.3 is shown in figure 7.5:\n",
    "Figure 7.5: Output of Example 7.3"
   ]
  }
 ],
 "metadata": {
  "kernelspec": {
   "display_name": "Python 3",
   "language": "python",
   "name": "python3"
  },
  "language_info": {
   "codemirror_mode": {
    "name": "ipython",
    "version": 3
   },
   "file_extension": ".py",
   "mimetype": "text/x-python",
   "name": "python",
   "nbconvert_exporter": "python",
   "pygments_lexer": "ipython3",
   "version": "3.7.6"
  }
 },
 "nbformat": 4,
 "nbformat_minor": 4
}
